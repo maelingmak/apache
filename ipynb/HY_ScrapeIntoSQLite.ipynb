{
 "cells": [
  {
   "cell_type": "code",
   "execution_count": 70,
   "metadata": {},
   "outputs": [
    {
     "name": "stdout",
     "output_type": "stream",
     "text": [
      "/usr/local/bin/chromedriver\r\n"
     ]
    }
   ],
   "source": [
    "#import dependencies\n",
    "import time\n",
    "from bs4 import BeautifulSoup\n",
    "import requests\n",
    "import os\n",
    "import pandas as pd\n",
    "from splinter import Browser\n",
    "import numpy as np\n",
    "import random\n",
    "!which chromedriver"
   ]
  },
  {
   "cell_type": "code",
   "execution_count": 71,
   "metadata": {
    "collapsed": true
   },
   "outputs": [],
   "source": [
    "###Cyber News Scrapping"
   ]
  },
  {
   "cell_type": "code",
   "execution_count": 72,
   "metadata": {
    "collapsed": true
   },
   "outputs": [],
   "source": [
    "#Set up splinter\n",
    "try:\n",
    "    executable_path = {'executable_path': '/usr/local/bin/chromedriver'}\n",
    "    browser = Browser('chrome', **executable_path, headless=False)\n",
    "except: \n",
    "    executable_path = {'executable_path': 'chromedriver.exe'}\n",
    "    browser = Browser('chrome', **executable_path, headless=True)"
   ]
  },
  {
   "cell_type": "code",
   "execution_count": 73,
   "metadata": {
    "collapsed": true
   },
   "outputs": [],
   "source": [
    "#Create empty lists to store titles, dates, and any other element of interest\n",
    "article_titles = []\n",
    "article_dates = []\n",
    "article_other = []"
   ]
  },
  {
   "cell_type": "code",
   "execution_count": 162,
   "metadata": {
    "collapsed": true
   },
   "outputs": [],
   "source": [
    "#Create List of top 10 countries\n",
    "countries = [\"China\", \"Chinese\", \"Russia\", \"Russian\", \"United States\", \"US\", \"USA\",\"American\", \"Turkish\", \"Taiwanese\", \"Brazilian\", \"Romanian\", \"Indian\", \"Italian\", \"Hungarian\"]\n",
    "top_countries = [\"China\", \"United States\", \"Turkey\", \"Russia\", \"Taiwan\", \"Brazil\", \"Romania\", \"India\", \"Italy\", \"Hungary\"]"
   ]
  },
  {
   "cell_type": "code",
   "execution_count": 74,
   "metadata": {
    "collapsed": true
   },
   "outputs": [],
   "source": [
    "#Function to take current html, get the HTML elements, and use BS to sort through for all the titles and dates\n",
    "def scrape():\n",
    "    current_html = browser.html\n",
    "    soup = BeautifulSoup(current_html, 'html.parser')\n",
    "    result = soup.body.find_all('div', class_=\"webpage-item with-thumbnail\")\n",
    "    for each in result:\n",
    "        article_titles.append(each.find('h3').text)\n",
    "        article_dates.append(each.find('time').text)"
   ]
  },
  {
   "cell_type": "code",
   "execution_count": 75,
   "metadata": {},
   "outputs": [
    {
     "name": "stdout",
     "output_type": "stream",
     "text": [
      "2 of 10\n",
      "3 of 10\n",
      "4 of 10\n",
      "5 of 10\n",
      "6 of 10\n",
      "7 of 10\n",
      "8 of 10\n",
      "9 of 10\n",
      "10 of 10\n"
     ]
    }
   ],
   "source": [
    "#Splinter visit url to start\n",
    "url = \"https://www.infosecurity-magazine.com/news/\"\n",
    "browser.visit(url)\n",
    "\n",
    "#Scrapes current page then splinter clicks on button and waits 5-10 seconds for page to load\n",
    "for x in range(1,10):\n",
    "    scrape()\n",
    "    browser.click_link_by_partial_text('Older')\n",
    "    time.sleep((random.random()*5)+5)\n",
    "    print(f\"{x+1} of 10\")\n"
   ]
  },
  {
   "cell_type": "code",
   "execution_count": 81,
   "metadata": {},
   "outputs": [
    {
     "data": {
      "text/plain": [
       "['Clarifai Tries to Clear Up News of Compromised Server',\n",
       " 'Mexican Campaign Website Attacked with DDoS',\n",
       " 'Consumers Choose Easy Login over Passwords',\n",
       " 'Chinese Hackers Target National Datacenter in Watering Hole Spree',\n",
       " 'NCC Group: Majority of Our Reported Flaws Have Not Been Fixed',\n",
       " 'Gloucestershire Police BCC Error Leads to £80K Fine',\n",
       " '23,000 Individuals Affected in HealthEquity Breach',\n",
       " 'Cyber-Attacks Expected as World Cup Kicks Off',\n",
       " 'Military Colleges Aim to Develop Cyber Programs',\n",
       " 'Apple Update Will Hamper Police Device Crackers',\n",
       " 'Army Boss: Transport Infrastructure at Risk of Cyber-Attack',\n",
       " 'European Lawmakers Vote to Ban Kaspersky Lab Products',\n",
       " 'Clarifai Tries to Clear Up News of Compromised Server',\n",
       " 'Mexican Campaign Website Attacked with DDoS',\n",
       " 'Consumers Choose Easy Login over Passwords',\n",
       " 'Chinese Hackers Target National Datacenter in Watering Hole Spree',\n",
       " 'NCC Group: Majority of Our Reported Flaws Have Not Been Fixed',\n",
       " 'Gloucestershire Police BCC Error Leads to £80K Fine',\n",
       " '23,000 Individuals Affected in HealthEquity Breach',\n",
       " 'Cyber-Attacks Expected as World Cup Kicks Off',\n",
       " 'Military Colleges Aim to Develop Cyber Programs',\n",
       " 'Apple Update Will Hamper Police Device Crackers',\n",
       " 'Army Boss: Transport Infrastructure at Risk of Cyber-Attack',\n",
       " 'European Lawmakers Vote to Ban Kaspersky Lab Products',\n",
       " 'Clarifai Tries to Clear Up News of Compromised Server',\n",
       " 'Mexican Campaign Website Attacked with DDoS',\n",
       " 'Consumers Choose Easy Login over Passwords',\n",
       " 'Chinese Hackers Target National Datacenter in Watering Hole Spree',\n",
       " 'NCC Group: Majority of Our Reported Flaws Have Not Been Fixed',\n",
       " 'Gloucestershire Police BCC Error Leads to £80K Fine',\n",
       " '23,000 Individuals Affected in HealthEquity Breach',\n",
       " 'Cyber-Attacks Expected as World Cup Kicks Off',\n",
       " 'Military Colleges Aim to Develop Cyber Programs',\n",
       " 'Apple Update Will Hamper Police Device Crackers',\n",
       " 'Army Boss: Transport Infrastructure at Risk of Cyber-Attack',\n",
       " 'European Lawmakers Vote to Ban Kaspersky Lab Products',\n",
       " 'Next-Gen Cybersecurity for Trucking',\n",
       " 'Email Threats Increase, Impact Productivity',\n",
       " 'Crypto-Mining Malware Tops Charts, Targets Apps',\n",
       " 'AI Could Improve Legal Firms’ Efficiency by 50%',\n",
       " 'Patch Tuesday Brings Fixes for Adobe, Spectre',\n",
       " 'Dixons Carphone Breach Hits 5.9 Million Cards',\n",
       " 'Yahoo Slapped with £250K ICO Fine',\n",
       " 'Bank of Chile Suffers $10m Loss',\n",
       " 'Beguiling Apple with Malicious Code',\n",
       " 'Mobile App Security Risky Across Sectors',\n",
       " 'US Treasury Hits Russian Firms with More Sanctions',\n",
       " 'EMEA Organizations Deluged with Email Threats',\n",
       " 'BEC Scammers Disrupted in Multi-Million Dollar Swoop',\n",
       " \"Facebook's Special-Access, Data-Sharing Deals\",\n",
       " 'Senators Push Election Security in Defense Bill',\n",
       " 'Investors Back Industrial Controls with $60 Million',\n",
       " 'Chinese Hackers Raid US Contractor for Submarine Tech: Report',\n",
       " \"Coinrail Heist Drains 30% of Crypto-Exchange's Coins\",\n",
       " 'WannaCry Kill Switch Researcher Faces New Hacking Charges',\n",
       " 'Over 301,000 Open Jobs in Cybersecurity',\n",
       " 'Emergency Update: Zero-Day Exploit in Adobe Flash',\n",
       " 'Uptick in Threats to Job Sites, Recruitment Portals',\n",
       " '#Infosec18: Culture Change Needed to Prevent Attacks on Physical Infrastructure',\n",
       " 'Two-Fifths of Euro Firms Suffer DNS-Linked Data Theft',\n",
       " 'Beware of Cyber-Spies in Russia, Rights Group Warns England Boss',\n",
       " '#Infosec18: What You Need to Know About OilRig',\n",
       " 'VPNFilter: New Exploit Feature and Affected Devices Revealed',\n",
       " 'Effects of Cyber-Attack Still Unfold for Atlanta',\n",
       " '#Infosec18: Incident Response Plans Failing the Agility Test',\n",
       " 'Most Risk to Internet Originates from US',\n",
       " 'Hacker Takedown of PageUp Is Bad News for Clients',\n",
       " '#Infosec18: “Ridiculous” Problems Perpetuating Cyber-Skills Crisis',\n",
       " '#Infosec18: Nation State Hacking is Biggest Change in Cyber-Threat Landscape',\n",
       " '#Infosec18: OT/IT Conflict a Challenge in Era of Cyber-Physical Attacks',\n",
       " 'Global Business Leaders Eschew Proactive Security Investment',\n",
       " 'Malware Targets Users of Online Banking Service ',\n",
       " 'DNA Site MyHeritage Spills Data on 92m Users',\n",
       " '#Infosec18: Adult Toys Contain Legacy Vulnerabilites',\n",
       " 'Operation Prowli Malware Infected 40,000 Machines',\n",
       " '#Infosec18: How Ransomware-as-a-Service Offerings are Changing in 2018',\n",
       " 'Boards Push Security, Rush to GDPR Compliance',\n",
       " \"#Infosec18: Machine Learning Doesn't Mean AI or End of Humans\",\n",
       " '#Infosec18: Dystopic Internet Future Brewing in the East Says Martha Lane Fox',\n",
       " \"#Infosec18: A Diverse Team with Opportunities will Benefit a Company's Security\",\n",
       " '#Infosec18: European Blogger Awards Winners Announced',\n",
       " '#Infosec18: How to Design Security Awareness Programs & Drive Smart Security Behavior',\n",
       " \"#Infosec18: Users are 'Predictably Irrational' & Influenced by Cognitive Biases\",\n",
       " 'Five Riskiest States for Cybercrime',\n",
       " '#Infosec18: Experts in EFI Update Warning',\n",
       " 'Cyber-Criminals Work Around Road Blocks',\n",
       " 'Big Bank Blunder from Down Under',\n",
       " '#Infosec18: Cybersecurity Can Enable Businesses to be More Agile',\n",
       " '#Infosec18: Infosec Pros Must “Get Their Hands Dirty” with Quantum Computing',\n",
       " '#Infosec18: Security Pros Must “Speak Truth to Power”',\n",
       " '#Infosec18: Stealthier Attacks are Blurring the Lines Between Cybercrime & Statecraft',\n",
       " '#Infosec18: Regulation is Top Driver of Cybersecurity, Now & in the Future',\n",
       " 'Qualys Expand Military Presence with Acquisition',\n",
       " 'FIFA Host Cities Tackle Wi-Fi Problems',\n",
       " 'Members of CEO Fraud Ring Arrested',\n",
       " 'Technology Makes Employees Happier',\n",
       " '#Infosec18: Experts in EFI Update Warning',\n",
       " 'Cyber-Criminals Work Around Road Blocks',\n",
       " 'Big Bank Blunder from Down Under',\n",
       " '#Infosec18: Cybersecurity Can Enable Businesses to be More Agile',\n",
       " '#Infosec18: Infosec Pros Must “Get Their Hands Dirty” with Quantum Computing',\n",
       " '#Infosec18: Security Pros Must “Speak Truth to Power”',\n",
       " '#Infosec18: Stealthier Attacks are Blurring the Lines Between Cybercrime & Statecraft',\n",
       " '#Infosec18: Regulation is Top Driver of Cybersecurity, Now & in the Future',\n",
       " 'Qualys Expand Military Presence with Acquisition',\n",
       " 'FIFA Host Cities Tackle Wi-Fi Problems',\n",
       " 'Members of CEO Fraud Ring Arrested',\n",
       " 'Technology Makes Employees Happier']"
      ]
     },
     "execution_count": 81,
     "metadata": {},
     "output_type": "execute_result"
    }
   ],
   "source": [
    "article_titles\n"
   ]
  },
  {
   "cell_type": "code",
   "execution_count": 83,
   "metadata": {
    "collapsed": true
   },
   "outputs": [],
   "source": [
    "#Splice each word in all the titles\n",
    "all_words = []\n",
    "for each in article_titles:\n",
    "    all_words.append(each.split(\" \"))"
   ]
  },
  {
   "cell_type": "code",
   "execution_count": 88,
   "metadata": {},
   "outputs": [],
   "source": [
    "#Unravel lists of words for each title\n",
    "total_words = [item for sublist in all_words for item in sublist]\n"
   ]
  },
  {
   "cell_type": "code",
   "execution_count": 143,
   "metadata": {
    "scrolled": true
   },
   "outputs": [
    {
     "data": {
      "text/plain": [
       "Words\n",
       "                 1\n",
       "#Infosec18:     26\n",
       "$10m             1\n",
       "$60              1\n",
       "&                6\n",
       "'Predictably     1\n",
       "2018             1\n",
       "23,000           3\n",
       "30%              1\n",
       "301,000          1\n",
       "40,000           1\n",
       "5.9              1\n",
       "50%              1\n",
       "92m              1\n",
       "A                1\n",
       "AI               2\n",
       "About            1\n",
       "Acquisition      2\n",
       "Across           1\n",
       "Adobe            1\n",
       "Adobe,           1\n",
       "Adult            1\n",
       "Affected         4\n",
       "Agile            2\n",
       "Agility          1\n",
       "Aim              3\n",
       "Announced        1\n",
       "App              1\n",
       "Apple            4\n",
       "Apps             1\n",
       "                ..\n",
       "Winners          1\n",
       "Work             2\n",
       "World            3\n",
       "Yahoo            1\n",
       "You              1\n",
       "Zero-Day         1\n",
       "a                2\n",
       "and              1\n",
       "are              4\n",
       "as               3\n",
       "at               3\n",
       "be               2\n",
       "by               2\n",
       "for              6\n",
       "from             3\n",
       "in              20\n",
       "is               3\n",
       "of              22\n",
       "on               2\n",
       "or               1\n",
       "over             3\n",
       "the              6\n",
       "to              22\n",
       "will             1\n",
       "with            13\n",
       "£250K            1\n",
       "£80K             3\n",
       "“Get             2\n",
       "“Ridiculous”     1\n",
       "“Speak           2\n",
       "Name: Words, Length: 407, dtype: int64"
      ]
     },
     "execution_count": 143,
     "metadata": {},
     "output_type": "execute_result"
    }
   ],
   "source": [
    "#Create dataframe to count occurance of each word\n",
    "df = pd.DataFrame(total_words, columns= [\"Words\"])\n",
    "group = df.groupby(\"Words\")[\"Words\"].count()\n",
    "group"
   ]
  },
  {
   "cell_type": "code",
   "execution_count": 144,
   "metadata": {},
   "outputs": [
    {
     "name": "stdout",
     "output_type": "stream",
     "text": [
      "China Words    0\n",
      "dtype: int64\n",
      "Chinese Words    4\n",
      "dtype: int64\n",
      "Russia Words    0\n",
      "dtype: int64\n",
      "Russian Words    1\n",
      "dtype: int64\n",
      "United States Words    0\n",
      "dtype: int64\n",
      "US Words    3\n",
      "dtype: int64\n",
      "USA Words    0\n",
      "dtype: int64\n",
      "American Words    0\n",
      "dtype: int64\n",
      "Turkish Words    0\n",
      "dtype: int64\n",
      "Taiwanese Words    0\n",
      "dtype: int64\n",
      "Brazilian Words    0\n",
      "dtype: int64\n",
      "Romanian Words    0\n",
      "dtype: int64\n",
      "Indian Words    0\n",
      "dtype: int64\n",
      "Italian Words    0\n",
      "dtype: int64\n",
      "Hungarian Words    0\n",
      "dtype: int64\n"
     ]
    }
   ],
   "source": [
    "#Tally counts for each occurence of each in Country\n",
    "for x in countries:\n",
    "    df1 = df.loc[df[\"Words\"] == x]\n",
    "    print(f\"{x} {df1.count()}\")"
   ]
  },
  {
   "cell_type": "code",
   "execution_count": 153,
   "metadata": {},
   "outputs": [
    {
     "data": {
      "text/plain": [
       "[4, 3, 0, 1, 0, 0, 0, 0, 0, 0]"
      ]
     },
     "execution_count": 153,
     "metadata": {},
     "output_type": "execute_result"
    }
   ],
   "source": [
    "#Tallied top counts\n",
    "top_counts = [4,3,0,1,0,0,0,0,0,0] \n",
    "top_counts"
   ]
  },
  {
   "cell_type": "code",
   "execution_count": 212,
   "metadata": {},
   "outputs": [
    {
     "data": {
      "text/html": [
       "<div>\n",
       "<style>\n",
       "    .dataframe thead tr:only-child th {\n",
       "        text-align: right;\n",
       "    }\n",
       "\n",
       "    .dataframe thead th {\n",
       "        text-align: left;\n",
       "    }\n",
       "\n",
       "    .dataframe tbody tr th {\n",
       "        vertical-align: top;\n",
       "    }\n",
       "</style>\n",
       "<table border=\"1\" class=\"dataframe\">\n",
       "  <thead>\n",
       "    <tr style=\"text-align: right;\">\n",
       "      <th></th>\n",
       "      <th>country</th>\n",
       "      <th>count</th>\n",
       "    </tr>\n",
       "  </thead>\n",
       "  <tbody>\n",
       "    <tr>\n",
       "      <th>0</th>\n",
       "      <td>China</td>\n",
       "      <td>4</td>\n",
       "    </tr>\n",
       "    <tr>\n",
       "      <th>1</th>\n",
       "      <td>United States</td>\n",
       "      <td>3</td>\n",
       "    </tr>\n",
       "    <tr>\n",
       "      <th>2</th>\n",
       "      <td>Turkey</td>\n",
       "      <td>0</td>\n",
       "    </tr>\n",
       "    <tr>\n",
       "      <th>3</th>\n",
       "      <td>Russia</td>\n",
       "      <td>1</td>\n",
       "    </tr>\n",
       "    <tr>\n",
       "      <th>4</th>\n",
       "      <td>Taiwan</td>\n",
       "      <td>0</td>\n",
       "    </tr>\n",
       "    <tr>\n",
       "      <th>5</th>\n",
       "      <td>Brazil</td>\n",
       "      <td>0</td>\n",
       "    </tr>\n",
       "    <tr>\n",
       "      <th>6</th>\n",
       "      <td>Romania</td>\n",
       "      <td>0</td>\n",
       "    </tr>\n",
       "    <tr>\n",
       "      <th>7</th>\n",
       "      <td>India</td>\n",
       "      <td>0</td>\n",
       "    </tr>\n",
       "    <tr>\n",
       "      <th>8</th>\n",
       "      <td>Italy</td>\n",
       "      <td>0</td>\n",
       "    </tr>\n",
       "    <tr>\n",
       "      <th>9</th>\n",
       "      <td>Hungary</td>\n",
       "      <td>0</td>\n",
       "    </tr>\n",
       "  </tbody>\n",
       "</table>\n",
       "</div>"
      ],
      "text/plain": [
       "         country  count\n",
       "0          China      4\n",
       "1  United States      3\n",
       "2         Turkey      0\n",
       "3         Russia      1\n",
       "4         Taiwan      0\n",
       "5         Brazil      0\n",
       "6        Romania      0\n",
       "7          India      0\n",
       "8          Italy      0\n",
       "9        Hungary      0"
      ]
     },
     "execution_count": 212,
     "metadata": {},
     "output_type": "execute_result"
    }
   ],
   "source": [
    "#Create dataframe for top occurance of top countries\n",
    "df2 = pd.DataFrame(top_countries, columns=['country'])\n",
    "df2['count'] = top_counts\n",
    "df2"
   ]
  },
  {
   "cell_type": "code",
   "execution_count": 213,
   "metadata": {
    "collapsed": true
   },
   "outputs": [],
   "source": [
    "#convert to dictionary for SQL Alchemy\n",
    "dic = df2.to_dict(orient='records')"
   ]
  },
  {
   "cell_type": "code",
   "execution_count": 214,
   "metadata": {},
   "outputs": [
    {
     "data": {
      "text/plain": [
       "[{'count': 4, 'country': 'China'},\n",
       " {'count': 3, 'country': 'United States'},\n",
       " {'count': 0, 'country': 'Turkey'},\n",
       " {'count': 1, 'country': 'Russia'},\n",
       " {'count': 0, 'country': 'Taiwan'},\n",
       " {'count': 0, 'country': 'Brazil'},\n",
       " {'count': 0, 'country': 'Romania'},\n",
       " {'count': 0, 'country': 'India'},\n",
       " {'count': 0, 'country': 'Italy'},\n",
       " {'count': 0, 'country': 'Hungary'}]"
      ]
     },
     "execution_count": 214,
     "metadata": {},
     "output_type": "execute_result"
    }
   ],
   "source": [
    "dic"
   ]
  },
  {
   "cell_type": "code",
   "execution_count": 164,
   "metadata": {
    "collapsed": true
   },
   "outputs": [],
   "source": [
    "### Add to SQLITE\n",
    "\n",
    "# Import SQL Alchemy dependencies\n",
    "import sqlalchemy\n",
    "from sqlalchemy import create_engine, MetaData\n",
    "from sqlalchemy import Column, Integer, String, Float, Text, Numeric\n",
    "from sqlalchemy import inspect\n",
    "\n",
    "from sqlalchemy.ext.declarative import declarative_base\n",
    "Base = declarative_base()"
   ]
  },
  {
   "cell_type": "code",
   "execution_count": 173,
   "metadata": {},
   "outputs": [],
   "source": [
    "#create connection\n",
    "engine = create_engine('sqlite:///../db/apache.sqlite')\n",
    "Base.metadata.create_all(engine)"
   ]
  },
  {
   "cell_type": "code",
   "execution_count": 211,
   "metadata": {
    "collapsed": true
   },
   "outputs": [],
   "source": [
    "#create classes\n",
    "Base = declarative_base()\n",
    "\n",
    "class NewsCountries(Base):\n",
    "    __tablename__ = 'news_countries'\n",
    "    \n",
    "    id = Column(Integer, primary_key=True)\n",
    "    count = Column(Integer) \n",
    "    country = Column(Text)\n",
    "    \n",
    "    def __repr__(self):\n",
    "        return f\"id={self.id}, name={self.news_countries}\""
   ]
  },
  {
   "cell_type": "code",
   "execution_count": 207,
   "metadata": {},
   "outputs": [],
   "source": [
    "conn = engine.connect()"
   ]
  },
  {
   "cell_type": "code",
   "execution_count": 215,
   "metadata": {},
   "outputs": [
    {
     "data": {
      "text/plain": [
       "<sqlalchemy.engine.result.ResultProxy at 0x113cac358>"
      ]
     },
     "execution_count": 215,
     "metadata": {},
     "output_type": "execute_result"
    }
   ],
   "source": [
    "#Add top country into table\n",
    "conn.execute(NewsCountries.__table__.delete())\n",
    "conn.execute(NewsCountries.__table__.insert(), dic)"
   ]
  },
  {
   "cell_type": "code",
   "execution_count": 216,
   "metadata": {},
   "outputs": [
    {
     "data": {
      "text/plain": [
       "[(1, 'China', 4),\n",
       " (2, 'United States', 3),\n",
       " (3, 'Turkey', 0),\n",
       " (4, 'Russia', 1),\n",
       " (5, 'Taiwan', 0),\n",
       " (6, 'Brazil', 0),\n",
       " (7, 'Romania', 0),\n",
       " (8, 'India', 0),\n",
       " (9, 'Italy', 0),\n",
       " (10, 'Hungary', 0)]"
      ]
     },
     "execution_count": 216,
     "metadata": {},
     "output_type": "execute_result"
    }
   ],
   "source": [
    "#Query to double check\n",
    "engine.execute(\"select * from news_countries\").fetchall()"
   ]
  },
  {
   "cell_type": "code",
   "execution_count": 189,
   "metadata": {},
   "outputs": [
    {
     "data": {
      "text/plain": [
       "['access_response', 'news_countries']"
      ]
     },
     "execution_count": 189,
     "metadata": {},
     "output_type": "execute_result"
    }
   ],
   "source": [
    "#Check that SQLite file has new table\n",
    "engine.table_names()"
   ]
  }
 ],
 "metadata": {
  "kernelspec": {
   "display_name": "Python 3",
   "language": "python",
   "name": "python3"
  },
  "language_info": {
   "codemirror_mode": {
    "name": "ipython",
    "version": 3
   },
   "file_extension": ".py",
   "mimetype": "text/x-python",
   "name": "python",
   "nbconvert_exporter": "python",
   "pygments_lexer": "ipython3",
   "version": "3.6.3"
  }
 },
 "nbformat": 4,
 "nbformat_minor": 2
}
