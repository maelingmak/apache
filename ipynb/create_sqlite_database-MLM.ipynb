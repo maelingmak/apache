{
 "cells": [
  {
   "cell_type": "code",
   "execution_count": 1,
   "metadata": {},
   "outputs": [],
   "source": [
    "import pandas as pd\n",
    "import numpy as np"
   ]
  },
  {
   "cell_type": "code",
   "execution_count": 2,
   "metadata": {},
   "outputs": [],
   "source": [
    "!rm -f /home/spinster/bootcamp/homework/db/apache.sqlite"
   ]
  },
  {
   "cell_type": "code",
   "execution_count": 3,
   "metadata": {},
   "outputs": [],
   "source": [
    "# Import SQL Alchemy\n",
    "import sqlalchemy\n",
    "from sqlalchemy import create_engine, MetaData\n",
    "\n",
    "# Import and establish Base for which classes will be constructed \n",
    "from sqlalchemy.ext.declarative import declarative_base\n",
    "Base = declarative_base()"
   ]
  },
  {
   "cell_type": "code",
   "execution_count": 4,
   "metadata": {},
   "outputs": [],
   "source": [
    "# Import modules to declare columns and column data types\n",
    "from sqlalchemy import Column, Integer, String, Float, Text, Numeric\n",
    "from sqlalchemy import inspect"
   ]
  },
  {
   "cell_type": "code",
   "execution_count": 5,
   "metadata": {},
   "outputs": [],
   "source": [
    "#csv to df\n",
    "access_logs_df = pd.read_csv('/home/spinster/bootcamp/homework/apache/infiles/cleaned_access_logs.csv')\n",
    "responses_df = pd.read_csv('/home/spinster/bootcamp/homework/apache/infiles/coordinates.csv')\n"
   ]
  },
  {
   "cell_type": "code",
   "execution_count": 6,
   "metadata": {},
   "outputs": [
    {
     "name": "stdout",
     "output_type": "stream",
     "text": [
      "<class 'pandas.core.frame.DataFrame'>\n",
      "RangeIndex: 30694 entries, 0 to 30693\n",
      "Data columns (total 10 columns):\n",
      "Unnamed: 0      30694 non-null int64\n",
      "ip              30694 non-null object\n",
      "DateTime        30694 non-null object\n",
      "TimeZone        30694 non-null object\n",
      "Method          30694 non-null object\n",
      "URL             30694 non-null object\n",
      "ResponseCode    30694 non-null object\n",
      "BytesSent       30694 non-null object\n",
      "Referer         30694 non-null object\n",
      "UserAgent       30694 non-null object\n",
      "dtypes: int64(1), object(9)\n",
      "memory usage: 2.3+ MB\n"
     ]
    }
   ],
   "source": [
    "#check dtypes and NaN\n",
    "access_logs_df.info()"
   ]
  },
  {
   "cell_type": "code",
   "execution_count": 7,
   "metadata": {},
   "outputs": [
    {
     "data": {
      "text/html": [
       "<div>\n",
       "<style scoped>\n",
       "    .dataframe tbody tr th:only-of-type {\n",
       "        vertical-align: middle;\n",
       "    }\n",
       "\n",
       "    .dataframe tbody tr th {\n",
       "        vertical-align: top;\n",
       "    }\n",
       "\n",
       "    .dataframe thead th {\n",
       "        text-align: right;\n",
       "    }\n",
       "</style>\n",
       "<table border=\"1\" class=\"dataframe\">\n",
       "  <thead>\n",
       "    <tr style=\"text-align: right;\">\n",
       "      <th></th>\n",
       "      <th>Unnamed: 0</th>\n",
       "      <th>ip</th>\n",
       "      <th>DateTime</th>\n",
       "      <th>TimeZone</th>\n",
       "      <th>Method</th>\n",
       "      <th>URL</th>\n",
       "      <th>ResponseCode</th>\n",
       "      <th>BytesSent</th>\n",
       "      <th>Referer</th>\n",
       "      <th>UserAgent</th>\n",
       "    </tr>\n",
       "  </thead>\n",
       "  <tbody>\n",
       "    <tr>\n",
       "      <th>0</th>\n",
       "      <td>14</td>\n",
       "      <td>62.170.2.205</td>\n",
       "      <td>2018-04-08 07:19:25</td>\n",
       "      <td>GMT-0700</td>\n",
       "      <td>HEAD</td>\n",
       "      <td>http://198.27.242.168:80/phpmyadmin/</td>\n",
       "      <td>404</td>\n",
       "      <td>220</td>\n",
       "      <td>-</td>\n",
       "      <td>Mozilla/5.0 (Windows NT 10.0; Win64; x64) Appl...</td>\n",
       "    </tr>\n",
       "    <tr>\n",
       "      <th>1</th>\n",
       "      <td>15</td>\n",
       "      <td>62.170.2.205</td>\n",
       "      <td>2018-04-08 07:19:25</td>\n",
       "      <td>GMT-0700</td>\n",
       "      <td>HEAD</td>\n",
       "      <td>http://198.27.242.168:80/PMA/</td>\n",
       "      <td>404</td>\n",
       "      <td>219</td>\n",
       "      <td>-</td>\n",
       "      <td>Mozilla/5.0 (Windows NT 10.0; Win64; x64) Appl...</td>\n",
       "    </tr>\n",
       "    <tr>\n",
       "      <th>2</th>\n",
       "      <td>16</td>\n",
       "      <td>62.170.2.205</td>\n",
       "      <td>2018-04-08 07:19:25</td>\n",
       "      <td>GMT-0700</td>\n",
       "      <td>HEAD</td>\n",
       "      <td>http://198.27.242.168:80/dbadmin/</td>\n",
       "      <td>404</td>\n",
       "      <td>219</td>\n",
       "      <td>-</td>\n",
       "      <td>Mozilla/5.0 (Windows NT 10.0; Win64; x64) Appl...</td>\n",
       "    </tr>\n",
       "    <tr>\n",
       "      <th>3</th>\n",
       "      <td>17</td>\n",
       "      <td>62.170.2.205</td>\n",
       "      <td>2018-04-08 07:19:26</td>\n",
       "      <td>GMT-0700</td>\n",
       "      <td>HEAD</td>\n",
       "      <td>http://198.27.242.168:80/pma/</td>\n",
       "      <td>404</td>\n",
       "      <td>219</td>\n",
       "      <td>-</td>\n",
       "      <td>Mozilla/5.0 (Windows NT 10.0; Win64; x64) Appl...</td>\n",
       "    </tr>\n",
       "    <tr>\n",
       "      <th>4</th>\n",
       "      <td>18</td>\n",
       "      <td>62.170.2.205</td>\n",
       "      <td>2018-04-08 07:19:26</td>\n",
       "      <td>GMT-0700</td>\n",
       "      <td>HEAD</td>\n",
       "      <td>http://198.27.242.168:80/db/</td>\n",
       "      <td>404</td>\n",
       "      <td>219</td>\n",
       "      <td>-</td>\n",
       "      <td>Mozilla/5.0 (Windows NT 10.0; Win64; x64) Appl...</td>\n",
       "    </tr>\n",
       "  </tbody>\n",
       "</table>\n",
       "</div>"
      ],
      "text/plain": [
       "   Unnamed: 0            ip             DateTime  TimeZone Method  \\\n",
       "0          14  62.170.2.205  2018-04-08 07:19:25  GMT-0700   HEAD   \n",
       "1          15  62.170.2.205  2018-04-08 07:19:25  GMT-0700   HEAD   \n",
       "2          16  62.170.2.205  2018-04-08 07:19:25  GMT-0700   HEAD   \n",
       "3          17  62.170.2.205  2018-04-08 07:19:26  GMT-0700   HEAD   \n",
       "4          18  62.170.2.205  2018-04-08 07:19:26  GMT-0700   HEAD   \n",
       "\n",
       "                                    URL ResponseCode BytesSent Referer  \\\n",
       "0  http://198.27.242.168:80/phpmyadmin/          404       220       -   \n",
       "1         http://198.27.242.168:80/PMA/          404       219       -   \n",
       "2     http://198.27.242.168:80/dbadmin/          404       219       -   \n",
       "3         http://198.27.242.168:80/pma/          404       219       -   \n",
       "4          http://198.27.242.168:80/db/          404       219       -   \n",
       "\n",
       "                                           UserAgent  \n",
       "0  Mozilla/5.0 (Windows NT 10.0; Win64; x64) Appl...  \n",
       "1  Mozilla/5.0 (Windows NT 10.0; Win64; x64) Appl...  \n",
       "2  Mozilla/5.0 (Windows NT 10.0; Win64; x64) Appl...  \n",
       "3  Mozilla/5.0 (Windows NT 10.0; Win64; x64) Appl...  \n",
       "4  Mozilla/5.0 (Windows NT 10.0; Win64; x64) Appl...  "
      ]
     },
     "execution_count": 7,
     "metadata": {},
     "output_type": "execute_result"
    }
   ],
   "source": [
    "access_logs_df.head()"
   ]
  },
  {
   "cell_type": "code",
   "execution_count": 8,
   "metadata": {},
   "outputs": [],
   "source": [
    "access_logs_df = access_logs_df.drop(['Unnamed: 0'], axis=1)\n",
    "#found header rows in data while doing analysis. Removed from DB\n",
    "access_logs_df = access_logs_df[(access_logs_df.ip != 'Host')]"
   ]
  },
  {
   "cell_type": "code",
   "execution_count": 9,
   "metadata": {},
   "outputs": [
    {
     "data": {
      "text/html": [
       "<div>\n",
       "<style scoped>\n",
       "    .dataframe tbody tr th:only-of-type {\n",
       "        vertical-align: middle;\n",
       "    }\n",
       "\n",
       "    .dataframe tbody tr th {\n",
       "        vertical-align: top;\n",
       "    }\n",
       "\n",
       "    .dataframe thead th {\n",
       "        text-align: right;\n",
       "    }\n",
       "</style>\n",
       "<table border=\"1\" class=\"dataframe\">\n",
       "  <thead>\n",
       "    <tr style=\"text-align: right;\">\n",
       "      <th></th>\n",
       "      <th>ip</th>\n",
       "      <th>DateTime</th>\n",
       "      <th>TimeZone</th>\n",
       "      <th>Method</th>\n",
       "      <th>URL</th>\n",
       "      <th>ResponseCode</th>\n",
       "      <th>BytesSent</th>\n",
       "      <th>Referer</th>\n",
       "      <th>UserAgent</th>\n",
       "    </tr>\n",
       "  </thead>\n",
       "  <tbody>\n",
       "    <tr>\n",
       "      <th>0</th>\n",
       "      <td>62.170.2.205</td>\n",
       "      <td>2018-04-08 07:19:25</td>\n",
       "      <td>GMT-0700</td>\n",
       "      <td>HEAD</td>\n",
       "      <td>http://198.27.242.168:80/phpmyadmin/</td>\n",
       "      <td>404</td>\n",
       "      <td>220</td>\n",
       "      <td>-</td>\n",
       "      <td>Mozilla/5.0 (Windows NT 10.0; Win64; x64) Appl...</td>\n",
       "    </tr>\n",
       "    <tr>\n",
       "      <th>1</th>\n",
       "      <td>62.170.2.205</td>\n",
       "      <td>2018-04-08 07:19:25</td>\n",
       "      <td>GMT-0700</td>\n",
       "      <td>HEAD</td>\n",
       "      <td>http://198.27.242.168:80/PMA/</td>\n",
       "      <td>404</td>\n",
       "      <td>219</td>\n",
       "      <td>-</td>\n",
       "      <td>Mozilla/5.0 (Windows NT 10.0; Win64; x64) Appl...</td>\n",
       "    </tr>\n",
       "    <tr>\n",
       "      <th>2</th>\n",
       "      <td>62.170.2.205</td>\n",
       "      <td>2018-04-08 07:19:25</td>\n",
       "      <td>GMT-0700</td>\n",
       "      <td>HEAD</td>\n",
       "      <td>http://198.27.242.168:80/dbadmin/</td>\n",
       "      <td>404</td>\n",
       "      <td>219</td>\n",
       "      <td>-</td>\n",
       "      <td>Mozilla/5.0 (Windows NT 10.0; Win64; x64) Appl...</td>\n",
       "    </tr>\n",
       "    <tr>\n",
       "      <th>3</th>\n",
       "      <td>62.170.2.205</td>\n",
       "      <td>2018-04-08 07:19:26</td>\n",
       "      <td>GMT-0700</td>\n",
       "      <td>HEAD</td>\n",
       "      <td>http://198.27.242.168:80/pma/</td>\n",
       "      <td>404</td>\n",
       "      <td>219</td>\n",
       "      <td>-</td>\n",
       "      <td>Mozilla/5.0 (Windows NT 10.0; Win64; x64) Appl...</td>\n",
       "    </tr>\n",
       "    <tr>\n",
       "      <th>4</th>\n",
       "      <td>62.170.2.205</td>\n",
       "      <td>2018-04-08 07:19:26</td>\n",
       "      <td>GMT-0700</td>\n",
       "      <td>HEAD</td>\n",
       "      <td>http://198.27.242.168:80/db/</td>\n",
       "      <td>404</td>\n",
       "      <td>219</td>\n",
       "      <td>-</td>\n",
       "      <td>Mozilla/5.0 (Windows NT 10.0; Win64; x64) Appl...</td>\n",
       "    </tr>\n",
       "  </tbody>\n",
       "</table>\n",
       "</div>"
      ],
      "text/plain": [
       "             ip             DateTime  TimeZone Method  \\\n",
       "0  62.170.2.205  2018-04-08 07:19:25  GMT-0700   HEAD   \n",
       "1  62.170.2.205  2018-04-08 07:19:25  GMT-0700   HEAD   \n",
       "2  62.170.2.205  2018-04-08 07:19:25  GMT-0700   HEAD   \n",
       "3  62.170.2.205  2018-04-08 07:19:26  GMT-0700   HEAD   \n",
       "4  62.170.2.205  2018-04-08 07:19:26  GMT-0700   HEAD   \n",
       "\n",
       "                                    URL ResponseCode BytesSent Referer  \\\n",
       "0  http://198.27.242.168:80/phpmyadmin/          404       220       -   \n",
       "1         http://198.27.242.168:80/PMA/          404       219       -   \n",
       "2     http://198.27.242.168:80/dbadmin/          404       219       -   \n",
       "3         http://198.27.242.168:80/pma/          404       219       -   \n",
       "4          http://198.27.242.168:80/db/          404       219       -   \n",
       "\n",
       "                                           UserAgent  \n",
       "0  Mozilla/5.0 (Windows NT 10.0; Win64; x64) Appl...  \n",
       "1  Mozilla/5.0 (Windows NT 10.0; Win64; x64) Appl...  \n",
       "2  Mozilla/5.0 (Windows NT 10.0; Win64; x64) Appl...  \n",
       "3  Mozilla/5.0 (Windows NT 10.0; Win64; x64) Appl...  \n",
       "4  Mozilla/5.0 (Windows NT 10.0; Win64; x64) Appl...  "
      ]
     },
     "execution_count": 9,
     "metadata": {},
     "output_type": "execute_result"
    }
   ],
   "source": [
    "access_logs_df.head()"
   ]
  },
  {
   "cell_type": "code",
   "execution_count": 10,
   "metadata": {},
   "outputs": [
    {
     "name": "stdout",
     "output_type": "stream",
     "text": [
      "<class 'pandas.core.frame.DataFrame'>\n",
      "RangeIndex: 7724 entries, 0 to 7723\n",
      "Data columns (total 4 columns):\n",
      "Unnamed: 0    7724 non-null int64\n",
      "ip            7724 non-null object\n",
      "latitude      7724 non-null float64\n",
      "longitude     7724 non-null float64\n",
      "dtypes: float64(2), int64(1), object(1)\n",
      "memory usage: 241.5+ KB\n"
     ]
    }
   ],
   "source": [
    "#check dtypes and NaN\n",
    "responses_df.info()"
   ]
  },
  {
   "cell_type": "code",
   "execution_count": 11,
   "metadata": {},
   "outputs": [],
   "source": [
    "responses_df = responses_df.drop('Unnamed: 0', axis=1)"
   ]
  },
  {
   "cell_type": "code",
   "execution_count": 12,
   "metadata": {},
   "outputs": [
    {
     "data": {
      "text/html": [
       "<div>\n",
       "<style scoped>\n",
       "    .dataframe tbody tr th:only-of-type {\n",
       "        vertical-align: middle;\n",
       "    }\n",
       "\n",
       "    .dataframe tbody tr th {\n",
       "        vertical-align: top;\n",
       "    }\n",
       "\n",
       "    .dataframe thead th {\n",
       "        text-align: right;\n",
       "    }\n",
       "</style>\n",
       "<table border=\"1\" class=\"dataframe\">\n",
       "  <thead>\n",
       "    <tr style=\"text-align: right;\">\n",
       "      <th></th>\n",
       "      <th>ip</th>\n",
       "      <th>latitude</th>\n",
       "      <th>longitude</th>\n",
       "    </tr>\n",
       "  </thead>\n",
       "  <tbody>\n",
       "    <tr>\n",
       "      <th>0</th>\n",
       "      <td>62.170.2.205</td>\n",
       "      <td>37.1500</td>\n",
       "      <td>15.1833</td>\n",
       "    </tr>\n",
       "    <tr>\n",
       "      <th>1</th>\n",
       "      <td>108.41.39.187</td>\n",
       "      <td>40.5833</td>\n",
       "      <td>-73.9240</td>\n",
       "    </tr>\n",
       "    <tr>\n",
       "      <th>2</th>\n",
       "      <td>216.244.66.194</td>\n",
       "      <td>47.4891</td>\n",
       "      <td>-122.2908</td>\n",
       "    </tr>\n",
       "    <tr>\n",
       "      <th>3</th>\n",
       "      <td>113.96.223.207</td>\n",
       "      <td>23.1167</td>\n",
       "      <td>113.2500</td>\n",
       "    </tr>\n",
       "    <tr>\n",
       "      <th>4</th>\n",
       "      <td>111.206.36.15</td>\n",
       "      <td>39.9289</td>\n",
       "      <td>116.3883</td>\n",
       "    </tr>\n",
       "  </tbody>\n",
       "</table>\n",
       "</div>"
      ],
      "text/plain": [
       "               ip  latitude  longitude\n",
       "0    62.170.2.205   37.1500    15.1833\n",
       "1   108.41.39.187   40.5833   -73.9240\n",
       "2  216.244.66.194   47.4891  -122.2908\n",
       "3  113.96.223.207   23.1167   113.2500\n",
       "4   111.206.36.15   39.9289   116.3883"
      ]
     },
     "execution_count": 12,
     "metadata": {},
     "output_type": "execute_result"
    }
   ],
   "source": [
    "responses_df.head()"
   ]
  },
  {
   "cell_type": "code",
   "execution_count": 13,
   "metadata": {},
   "outputs": [],
   "source": [
    "access_respnses_df = pd.merge(access_logs_df, responses_df, how='left',on='ip')"
   ]
  },
  {
   "cell_type": "code",
   "execution_count": 14,
   "metadata": {},
   "outputs": [],
   "source": [
    "# create engine\n",
    "engine = create_engine('sqlite:///apache2.sqlite')"
   ]
  },
  {
   "cell_type": "code",
   "execution_count": 15,
   "metadata": {},
   "outputs": [],
   "source": [
    "#convert dfs to dicts in order to create classes\n",
    "access_response = access_respnses_df.to_dict(orient='records')"
   ]
  },
  {
   "cell_type": "code",
   "execution_count": 16,
   "metadata": {},
   "outputs": [],
   "source": [
    "#create classes\n",
    "Base = declarative_base()\n",
    "\n",
    "class AccessResponse(Base):\n",
    "    __tablename__ = 'access_response'\n",
    "    \n",
    "    id = Column(Integer, primary_key=True)\n",
    "    ip = Column(Text)\n",
    "    DateTime= Column(Text)\n",
    "    TimeZone = Column(Text)\n",
    "    Method = Column(Text)\n",
    "    URL = Column(Text)\n",
    "    ResponseCode = Column(Text)\n",
    "    Referer = Column(Text)\n",
    "    BytesSent = Column(Text)\n",
    "    UserAgent = Column(Text)\n",
    "    latitude = Column(Float)\n",
    "    longitude = Column(Float)\n",
    "    \n",
    "    def __repr__(self):\n",
    "        return f\"id={self.id}, name={self.access_response}\""
   ]
  },
  {
   "cell_type": "code",
   "execution_count": 17,
   "metadata": {},
   "outputs": [],
   "source": [
    "# create db\n",
    "Base.metadata.create_all(engine)"
   ]
  },
  {
   "cell_type": "code",
   "execution_count": 18,
   "metadata": {},
   "outputs": [
    {
     "data": {
      "text/plain": [
       "['access_response']"
      ]
     },
     "execution_count": 18,
     "metadata": {},
     "output_type": "execute_result"
    }
   ],
   "source": [
    "# check that it worked.\n",
    "engine.table_names()"
   ]
  },
  {
   "cell_type": "code",
   "execution_count": 19,
   "metadata": {},
   "outputs": [],
   "source": [
    "# create connection\n",
    "conn = engine.connect()"
   ]
  },
  {
   "cell_type": "code",
   "execution_count": 20,
   "metadata": {},
   "outputs": [
    {
     "data": {
      "text/plain": [
       "Table('access_response', MetaData(bind=None), Column('id', Integer(), table=<access_response>, primary_key=True, nullable=False), Column('ip', Text(), table=<access_response>), Column('DateTime', Text(), table=<access_response>), Column('TimeZone', Text(), table=<access_response>), Column('Method', Text(), table=<access_response>), Column('URL', Text(), table=<access_response>), Column('ResponseCode', Text(), table=<access_response>), Column('Referer', Text(), table=<access_response>), Column('BytesSent', Text(), table=<access_response>), Column('UserAgent', Text(), table=<access_response>), Column('latitude', Float(), table=<access_response>), Column('longitude', Float(), table=<access_response>), schema=None)"
      ]
     },
     "execution_count": 20,
     "metadata": {},
     "output_type": "execute_result"
    }
   ],
   "source": [
    "# check that all the info is there\n",
    "AccessResponse.__table__"
   ]
  },
  {
   "cell_type": "code",
   "execution_count": 21,
   "metadata": {},
   "outputs": [
    {
     "data": {
      "text/plain": [
       "<sqlalchemy.engine.result.ResultProxy at 0x7fd10c169dd8>"
      ]
     },
     "execution_count": 21,
     "metadata": {},
     "output_type": "execute_result"
    }
   ],
   "source": [
    "#delete tables to avoid duplicates when re-run\n",
    "conn.execute(AccessResponse.__table__.delete())"
   ]
  },
  {
   "cell_type": "code",
   "execution_count": 22,
   "metadata": {},
   "outputs": [
    {
     "data": {
      "text/plain": [
       "<sqlalchemy.engine.result.ResultProxy at 0x7fd10c5d7860>"
      ]
     },
     "execution_count": 22,
     "metadata": {},
     "output_type": "execute_result"
    }
   ],
   "source": [
    "# execute connection\n",
    "conn.execute(AccessResponse.__table__.insert(), access_response)"
   ]
  },
  {
   "cell_type": "code",
   "execution_count": 23,
   "metadata": {},
   "outputs": [
    {
     "data": {
      "text/plain": [
       "[('62.170.2.205', 15.1833),\n",
       " ('62.170.2.205', 15.1833),\n",
       " ('62.170.2.205', 15.1833),\n",
       " ('62.170.2.205', 15.1833),\n",
       " ('62.170.2.205', 15.1833),\n",
       " ('108.41.39.187', -73.92399999999998),\n",
       " ('74.208.182.37', -75.4083),\n",
       " ('46.229.164.102', -77.539),\n",
       " ('96.57.208.218', -97.822),\n",
       " ('96.57.208.218', -97.822)]"
      ]
     },
     "execution_count": 23,
     "metadata": {},
     "output_type": "execute_result"
    }
   ],
   "source": [
    "# check that it worked\n",
    "engine.execute(\"select ip,longitude from access_response limit 10\").fetchall()\n"
   ]
  },
  {
   "cell_type": "code",
   "execution_count": 24,
   "metadata": {},
   "outputs": [
    {
     "data": {
      "text/plain": [
       "[(1, '62.170.2.205', '2018-04-08 07:19:25', 'GMT-0700', 'HEAD', 'http://198.27.242.168:80/phpmyadmin/', '404', '-', '220', 'Mozilla/5.0 (Windows NT 10.0; Win64; x64) AppleWebKit/537.36 (KHTML, like Gecko) Chrome/63.0.3239.132 Safari/537.36', 37.15, 15.1833)]"
      ]
     },
     "execution_count": 24,
     "metadata": {},
     "output_type": "execute_result"
    }
   ],
   "source": [
    "#check what's in there\n",
    "engine.execute(\"select * from access_response limit 1\").fetchall()\n"
   ]
  },
  {
   "cell_type": "code",
   "execution_count": null,
   "metadata": {},
   "outputs": [],
   "source": []
  }
 ],
 "metadata": {
  "kernelspec": {
   "display_name": "Python 3",
   "language": "python",
   "name": "python3"
  },
  "language_info": {
   "codemirror_mode": {
    "name": "ipython",
    "version": 3
   },
   "file_extension": ".py",
   "mimetype": "text/x-python",
   "name": "python",
   "nbconvert_exporter": "python",
   "pygments_lexer": "ipython3",
   "version": "3.6.4"
  }
 },
 "nbformat": 4,
 "nbformat_minor": 2
}
