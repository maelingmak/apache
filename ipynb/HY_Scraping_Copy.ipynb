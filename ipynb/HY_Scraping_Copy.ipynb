{
 "cells": [
  {
   "cell_type": "code",
   "execution_count": 70,
   "metadata": {},
   "outputs": [
    {
     "name": "stdout",
     "output_type": "stream",
     "text": [
      "/usr/local/bin/chromedriver\r\n"
     ]
    }
   ],
   "source": [
    "#import dependencies\n",
    "import time\n",
    "from bs4 import BeautifulSoup\n",
    "import requests\n",
    "import os\n",
    "import pandas as pd\n",
    "from splinter import Browser\n",
    "import numpy as np\n",
    "import random\n",
    "!which chromedriver"
   ]
  },
  {
   "cell_type": "code",
   "execution_count": 71,
   "metadata": {
    "collapsed": true
   },
   "outputs": [],
   "source": [
    "###Cyber News Scrapping"
   ]
  },
  {
   "cell_type": "code",
   "execution_count": 72,
   "metadata": {
    "collapsed": true
   },
   "outputs": [],
   "source": [
    "#Set up splinter\n",
    "try:\n",
    "    executable_path = {'executable_path': '/usr/local/bin/chromedriver'}\n",
    "    browser = Browser('chrome', **executable_path, headless=False)\n",
    "except: \n",
    "    executable_path = {'executable_path': 'chromedriver.exe'}\n",
    "    browser = Browser('chrome', **executable_path, headless=True)"
   ]
  },
  {
   "cell_type": "code",
   "execution_count": 73,
   "metadata": {
    "collapsed": true
   },
   "outputs": [],
   "source": [
    "#Create empty lists to store titles, dates, and any other element of interest\n",
    "article_titles = []\n",
    "article_dates = []\n",
    "article_other = []"
   ]
  },
  {
   "cell_type": "code",
   "execution_count": 162,
   "metadata": {
    "collapsed": true
   },
   "outputs": [],
   "source": [
    "#Create List of top 10 countries\n",
    "countries = [\"China\", \"Chinese\", \"Russia\", \"Russian\", \"United States\", \"US\", \"USA\",\"American\", \"Turkish\", \"Taiwanese\", \"Brazilian\", \"Romanian\", \"Indian\", \"Italian\", \"Hungarian\"]\n",
    "top_countries = [\"China\", \"United States\", \"Turkey\", \"Russia\", \"Taiwan\", \"Brazil\", \"Romania\", \"India\", \"Italy\", \"Hungary\"]"
   ]
  },
  {
   "cell_type": "code",
   "execution_count": 74,
   "metadata": {
    "collapsed": true
   },
   "outputs": [],
   "source": [
    "#Function to take current html, get the HTML elements, and use BS to sort through for all the titles and dates\n",
    "def scrape():\n",
    "    current_html = browser.html\n",
    "    soup = BeautifulSoup(current_html, 'html.parser')\n",
    "    result = soup.body.find_all('div', class_=\"webpage-item with-thumbnail\")\n",
    "    for each in result:\n",
    "        article_titles.append(each.find('h3').text)\n",
    "        article_dates.append(each.find('time').text)"
   ]
  },
  {
   "cell_type": "code",
   "execution_count": 75,
   "metadata": {},
   "outputs": [
    {
     "name": "stdout",
     "output_type": "stream",
     "text": [
      "2 of 10\n",
      "3 of 10\n",
      "4 of 10\n",
      "5 of 10\n",
      "6 of 10\n",
      "7 of 10\n",
      "8 of 10\n",
      "9 of 10\n",
      "10 of 10\n"
     ]
    }
   ],
   "source": [
    "#Splinter visit url to start\n",
    "url = \"https://www.infosecurity-magazine.com/news/\"\n",
    "browser.visit(url)\n",
    "\n",
    "#Scrapes current page then splinter clicks on button and waits 5-10 seconds for page to load\n",
    "for x in range(1,10):\n",
    "    scrape()\n",
    "    browser.click_link_by_partial_text('Older')\n",
    "    time.sleep((random.random()*5)+5)\n",
    "    print(f\"{x+1} of 10\")\n"
   ]
  },
  {
   "cell_type": "code",
   "execution_count": 81,
   "metadata": {},
   "outputs": [
    {
     "data": {
      "text/plain": [
       "['Clarifai Tries to Clear Up News of Compromised Server',\n",
       " 'Mexican Campaign Website Attacked with DDoS',\n",
       " 'Consumers Choose Easy Login over Passwords',\n",
       " 'Chinese Hackers Target National Datacenter in Watering Hole Spree',\n",
       " 'NCC Group: Majority of Our Reported Flaws Have Not Been Fixed',\n",
       " 'Gloucestershire Police BCC Error Leads to £80K Fine',\n",
       " '23,000 Individuals Affected in HealthEquity Breach',\n",
       " 'Cyber-Attacks Expected as World Cup Kicks Off',\n",
       " 'Military Colleges Aim to Develop Cyber Programs',\n",
       " 'Apple Update Will Hamper Police Device Crackers',\n",
       " 'Army Boss: Transport Infrastructure at Risk of Cyber-Attack',\n",
       " 'European Lawmakers Vote to Ban Kaspersky Lab Products',\n",
       " 'Clarifai Tries to Clear Up News of Compromised Server',\n",
       " 'Mexican Campaign Website Attacked with DDoS',\n",
       " 'Consumers Choose Easy Login over Passwords',\n",
       " 'Chinese Hackers Target National Datacenter in Watering Hole Spree',\n",
       " 'NCC Group: Majority of Our Reported Flaws Have Not Been Fixed',\n",
       " 'Gloucestershire Police BCC Error Leads to £80K Fine',\n",
       " '23,000 Individuals Affected in HealthEquity Breach',\n",
       " 'Cyber-Attacks Expected as World Cup Kicks Off',\n",
       " 'Military Colleges Aim to Develop Cyber Programs',\n",
       " 'Apple Update Will Hamper Police Device Crackers',\n",
       " 'Army Boss: Transport Infrastructure at Risk of Cyber-Attack',\n",
       " 'European Lawmakers Vote to Ban Kaspersky Lab Products',\n",
       " 'Clarifai Tries to Clear Up News of Compromised Server',\n",
       " 'Mexican Campaign Website Attacked with DDoS',\n",
       " 'Consumers Choose Easy Login over Passwords',\n",
       " 'Chinese Hackers Target National Datacenter in Watering Hole Spree',\n",
       " 'NCC Group: Majority of Our Reported Flaws Have Not Been Fixed',\n",
       " 'Gloucestershire Police BCC Error Leads to £80K Fine',\n",
       " '23,000 Individuals Affected in HealthEquity Breach',\n",
       " 'Cyber-Attacks Expected as World Cup Kicks Off',\n",
       " 'Military Colleges Aim to Develop Cyber Programs',\n",
       " 'Apple Update Will Hamper Police Device Crackers',\n",
       " 'Army Boss: Transport Infrastructure at Risk of Cyber-Attack',\n",
       " 'European Lawmakers Vote to Ban Kaspersky Lab Products',\n",
       " 'Next-Gen Cybersecurity for Trucking',\n",
       " 'Email Threats Increase, Impact Productivity',\n",
       " 'Crypto-Mining Malware Tops Charts, Targets Apps',\n",
       " 'AI Could Improve Legal Firms’ Efficiency by 50%',\n",
       " 'Patch Tuesday Brings Fixes for Adobe, Spectre',\n",
       " 'Dixons Carphone Breach Hits 5.9 Million Cards',\n",
       " 'Yahoo Slapped with £250K ICO Fine',\n",
       " 'Bank of Chile Suffers $10m Loss',\n",
       " 'Beguiling Apple with Malicious Code',\n",
       " 'Mobile App Security Risky Across Sectors',\n",
       " 'US Treasury Hits Russian Firms with More Sanctions',\n",
       " 'EMEA Organizations Deluged with Email Threats',\n",
       " 'BEC Scammers Disrupted in Multi-Million Dollar Swoop',\n",
       " \"Facebook's Special-Access, Data-Sharing Deals\",\n",
       " 'Senators Push Election Security in Defense Bill',\n",
       " 'Investors Back Industrial Controls with $60 Million',\n",
       " 'Chinese Hackers Raid US Contractor for Submarine Tech: Report',\n",
       " \"Coinrail Heist Drains 30% of Crypto-Exchange's Coins\",\n",
       " 'WannaCry Kill Switch Researcher Faces New Hacking Charges',\n",
       " 'Over 301,000 Open Jobs in Cybersecurity',\n",
       " 'Emergency Update: Zero-Day Exploit in Adobe Flash',\n",
       " 'Uptick in Threats to Job Sites, Recruitment Portals',\n",
       " '#Infosec18: Culture Change Needed to Prevent Attacks on Physical Infrastructure',\n",
       " 'Two-Fifths of Euro Firms Suffer DNS-Linked Data Theft',\n",
       " 'Beware of Cyber-Spies in Russia, Rights Group Warns England Boss',\n",
       " '#Infosec18: What You Need to Know About OilRig',\n",
       " 'VPNFilter: New Exploit Feature and Affected Devices Revealed',\n",
       " 'Effects of Cyber-Attack Still Unfold for Atlanta',\n",
       " '#Infosec18: Incident Response Plans Failing the Agility Test',\n",
       " 'Most Risk to Internet Originates from US',\n",
       " 'Hacker Takedown of PageUp Is Bad News for Clients',\n",
       " '#Infosec18: “Ridiculous” Problems Perpetuating Cyber-Skills Crisis',\n",
       " '#Infosec18: Nation State Hacking is Biggest Change in Cyber-Threat Landscape',\n",
       " '#Infosec18: OT/IT Conflict a Challenge in Era of Cyber-Physical Attacks',\n",
       " 'Global Business Leaders Eschew Proactive Security Investment',\n",
       " 'Malware Targets Users of Online Banking Service ',\n",
       " 'DNA Site MyHeritage Spills Data on 92m Users',\n",
       " '#Infosec18: Adult Toys Contain Legacy Vulnerabilites',\n",
       " 'Operation Prowli Malware Infected 40,000 Machines',\n",
       " '#Infosec18: How Ransomware-as-a-Service Offerings are Changing in 2018',\n",
       " 'Boards Push Security, Rush to GDPR Compliance',\n",
       " \"#Infosec18: Machine Learning Doesn't Mean AI or End of Humans\",\n",
       " '#Infosec18: Dystopic Internet Future Brewing in the East Says Martha Lane Fox',\n",
       " \"#Infosec18: A Diverse Team with Opportunities will Benefit a Company's Security\",\n",
       " '#Infosec18: European Blogger Awards Winners Announced',\n",
       " '#Infosec18: How to Design Security Awareness Programs & Drive Smart Security Behavior',\n",
       " \"#Infosec18: Users are 'Predictably Irrational' & Influenced by Cognitive Biases\",\n",
       " 'Five Riskiest States for Cybercrime',\n",
       " '#Infosec18: Experts in EFI Update Warning',\n",
       " 'Cyber-Criminals Work Around Road Blocks',\n",
       " 'Big Bank Blunder from Down Under',\n",
       " '#Infosec18: Cybersecurity Can Enable Businesses to be More Agile',\n",
       " '#Infosec18: Infosec Pros Must “Get Their Hands Dirty” with Quantum Computing',\n",
       " '#Infosec18: Security Pros Must “Speak Truth to Power”',\n",
       " '#Infosec18: Stealthier Attacks are Blurring the Lines Between Cybercrime & Statecraft',\n",
       " '#Infosec18: Regulation is Top Driver of Cybersecurity, Now & in the Future',\n",
       " 'Qualys Expand Military Presence with Acquisition',\n",
       " 'FIFA Host Cities Tackle Wi-Fi Problems',\n",
       " 'Members of CEO Fraud Ring Arrested',\n",
       " 'Technology Makes Employees Happier',\n",
       " '#Infosec18: Experts in EFI Update Warning',\n",
       " 'Cyber-Criminals Work Around Road Blocks',\n",
       " 'Big Bank Blunder from Down Under',\n",
       " '#Infosec18: Cybersecurity Can Enable Businesses to be More Agile',\n",
       " '#Infosec18: Infosec Pros Must “Get Their Hands Dirty” with Quantum Computing',\n",
       " '#Infosec18: Security Pros Must “Speak Truth to Power”',\n",
       " '#Infosec18: Stealthier Attacks are Blurring the Lines Between Cybercrime & Statecraft',\n",
       " '#Infosec18: Regulation is Top Driver of Cybersecurity, Now & in the Future',\n",
       " 'Qualys Expand Military Presence with Acquisition',\n",
       " 'FIFA Host Cities Tackle Wi-Fi Problems',\n",
       " 'Members of CEO Fraud Ring Arrested',\n",
       " 'Technology Makes Employees Happier']"
      ]
     },
     "execution_count": 81,
     "metadata": {},
     "output_type": "execute_result"
    }
   ],
   "source": [
    "article_titles\n"
   ]
  },
  {
   "cell_type": "code",
   "execution_count": 83,
   "metadata": {
    "collapsed": true
   },
   "outputs": [],
   "source": [
    "all_words = []\n",
    "for each in article_titles:\n",
    "    all_words.append(each.split(\" \"))"
   ]
  },
  {
   "cell_type": "code",
   "execution_count": 88,
   "metadata": {},
   "outputs": [],
   "source": [
    "total_words = [item for sublist in all_words for item in sublist]\n"
   ]
  },
  {
   "cell_type": "code",
   "execution_count": 143,
   "metadata": {
    "scrolled": true
   },
   "outputs": [
    {
     "data": {
      "text/plain": [
       "Words\n",
       "                 1\n",
       "#Infosec18:     26\n",
       "$10m             1\n",
       "$60              1\n",
       "&                6\n",
       "'Predictably     1\n",
       "2018             1\n",
       "23,000           3\n",
       "30%              1\n",
       "301,000          1\n",
       "40,000           1\n",
       "5.9              1\n",
       "50%              1\n",
       "92m              1\n",
       "A                1\n",
       "AI               2\n",
       "About            1\n",
       "Acquisition      2\n",
       "Across           1\n",
       "Adobe            1\n",
       "Adobe,           1\n",
       "Adult            1\n",
       "Affected         4\n",
       "Agile            2\n",
       "Agility          1\n",
       "Aim              3\n",
       "Announced        1\n",
       "App              1\n",
       "Apple            4\n",
       "Apps             1\n",
       "                ..\n",
       "Winners          1\n",
       "Work             2\n",
       "World            3\n",
       "Yahoo            1\n",
       "You              1\n",
       "Zero-Day         1\n",
       "a                2\n",
       "and              1\n",
       "are              4\n",
       "as               3\n",
       "at               3\n",
       "be               2\n",
       "by               2\n",
       "for              6\n",
       "from             3\n",
       "in              20\n",
       "is               3\n",
       "of              22\n",
       "on               2\n",
       "or               1\n",
       "over             3\n",
       "the              6\n",
       "to              22\n",
       "will             1\n",
       "with            13\n",
       "£250K            1\n",
       "£80K             3\n",
       "“Get             2\n",
       "“Ridiculous”     1\n",
       "“Speak           2\n",
       "Name: Words, Length: 407, dtype: int64"
      ]
     },
     "execution_count": 143,
     "metadata": {},
     "output_type": "execute_result"
    }
   ],
   "source": [
    "df = pd.DataFrame(total_words, columns= [\"Words\"])\n",
    "group = df.groupby(\"Words\")[\"Words\"].count()\n",
    "group"
   ]
  },
  {
   "cell_type": "code",
   "execution_count": 144,
   "metadata": {},
   "outputs": [
    {
     "name": "stdout",
     "output_type": "stream",
     "text": [
      "China Words    0\n",
      "dtype: int64\n",
      "Chinese Words    4\n",
      "dtype: int64\n",
      "Russia Words    0\n",
      "dtype: int64\n",
      "Russian Words    1\n",
      "dtype: int64\n",
      "United States Words    0\n",
      "dtype: int64\n",
      "US Words    3\n",
      "dtype: int64\n",
      "USA Words    0\n",
      "dtype: int64\n",
      "American Words    0\n",
      "dtype: int64\n",
      "Turkish Words    0\n",
      "dtype: int64\n",
      "Taiwanese Words    0\n",
      "dtype: int64\n",
      "Brazilian Words    0\n",
      "dtype: int64\n",
      "Romanian Words    0\n",
      "dtype: int64\n",
      "Indian Words    0\n",
      "dtype: int64\n",
      "Italian Words    0\n",
      "dtype: int64\n",
      "Hungarian Words    0\n",
      "dtype: int64\n"
     ]
    }
   ],
   "source": [
    "country_count = []\n",
    "for x in countries:\n",
    "    df1 = df.loc[df[\"Words\"] == x]\n",
    "    print(f\"{x} {df1.count()}\")"
   ]
  },
  {
   "cell_type": "code",
   "execution_count": 153,
   "metadata": {},
   "outputs": [
    {
     "data": {
      "text/plain": [
       "[4, 3, 0, 1, 0, 0, 0, 0, 0, 0]"
      ]
     },
     "execution_count": 153,
     "metadata": {},
     "output_type": "execute_result"
    }
   ],
   "source": [
    "top_counts = [4,3,0,1,0,0,0,0,0,0] \n",
    "top_counts"
   ]
  },
  {
   "cell_type": "code",
   "execution_count": 161,
   "metadata": {},
   "outputs": [
    {
     "data": {
      "text/plain": [
       "{'Brazil': 0,\n",
       " 'China': 4,\n",
       " 'Hungary': 0,\n",
       " 'India': 0,\n",
       " 'Italy': 0,\n",
       " 'Romania': 0,\n",
       " 'Russia': 1,\n",
       " 'Taiwan': 0,\n",
       " 'Turkey': 0,\n",
       " 'United States': 3}"
      ]
     },
     "execution_count": 161,
     "metadata": {},
     "output_type": "execute_result"
    }
   ],
   "source": [
    "dic = dict(zip(top_countries, top_counts))\n",
    "dic"
   ]
  },
  {
   "cell_type": "code",
   "execution_count": null,
   "metadata": {
    "collapsed": true
   },
   "outputs": [],
   "source": []
  },
  {
   "cell_type": "code",
   "execution_count": null,
   "metadata": {
    "collapsed": true
   },
   "outputs": [],
   "source": []
  },
  {
   "cell_type": "code",
   "execution_count": null,
   "metadata": {
    "collapsed": true
   },
   "outputs": [],
   "source": []
  },
  {
   "cell_type": "code",
   "execution_count": null,
   "metadata": {
    "collapsed": true
   },
   "outputs": [],
   "source": []
  },
  {
   "cell_type": "code",
   "execution_count": 76,
   "metadata": {
    "collapsed": true
   },
   "outputs": [],
   "source": [
    "# #Get new HTML text after browser.click\n",
    "# sub_html = browser.html\n",
    "# soup2 = BeautifulSoup(sub_html, 'html.parser')\n",
    "# #Use BeautifulSoup to find featured image link\n",
    "# result = soup2.body.find('div', class_=\"fancybox-inner fancybox-skin fancybox-dark-skin fancybox-dark-skin-open\")\n",
    "# result = result.find('img').attrs['src']\n",
    "# result\n",
    "# featured_image_url = result"
   ]
  },
  {
   "cell_type": "code",
   "execution_count": 77,
   "metadata": {
    "collapsed": true
   },
   "outputs": [],
   "source": [
    "###Mars Weather Twitter"
   ]
  },
  {
   "cell_type": "code",
   "execution_count": 78,
   "metadata": {
    "collapsed": true
   },
   "outputs": [],
   "source": [
    "# #Get HTML text\n",
    "# url3 = \"https://twitter.com/marswxreport?lang=en\"\n",
    "# html3 = requests.get(url3)\n",
    "# soup3 = BeautifulSoup(html3.text, 'html.parser')\n",
    "\n",
    "# #BeautifulSoup to find weather tweet text\n",
    "# result3 = soup3.body.find('div', class_=\"js-tweet-text-container\").find(\"p\").text.strip()\n",
    "# result3\n",
    "\n",
    "# mars_weather = result3\n",
    "\n",
    "# #Use pandas to fetch HTML table data\n",
    "# url4 = \"http://space-facts.com/mars/\"\n",
    "# tables = pd.read_html(url4)\n",
    "# tables\n",
    "\n",
    "# df = tables[0]\n",
    "# df = df.rename(columns={0:\"Parameter\", 1: \"Value\"})\n",
    "# df\n",
    "\n",
    "# for x in hemisphere_image_urls:\n",
    "#     for key, value in x.items():\n",
    "#         print(value)\n",
    "        \n",
    "# hemisphere_image_urls\n",
    "# hemisphere_image_urls[0]['title']"
   ]
  },
  {
   "cell_type": "code",
   "execution_count": 79,
   "metadata": {
    "collapsed": true
   },
   "outputs": [],
   "source": [
    "###Mars Hemispheres"
   ]
  },
  {
   "cell_type": "code",
   "execution_count": 80,
   "metadata": {
    "collapsed": true
   },
   "outputs": [],
   "source": [
    "# #Use Splinter to visit URL\n",
    "# url5 = \"https://astrogeology.usgs.gov/search/results?q=hemisphere+enhanced&k1=target&v1=Mars\"\n",
    "# browser.visit(url5)\n",
    "# #Get HTML text\n",
    "# html5 = browser.html\n",
    "# soup5 = BeautifulSoup(html5, \"html.parser\")\n",
    "# hemi_title = []\n",
    "# hemi_url = []\n",
    "# #Use BeautifulSoup to find name of each button\n",
    "# result5 = soup5.body.find_all('div', class_=\"item\")\n",
    "# for each in result5:\n",
    "#     print(each.find('h3').text)\n",
    "#     hemi_title.append(each.find('h3').text)\n",
    "# time.sleep(2)\n",
    "\n",
    "\n",
    "# #Use Splinter to browser.click on each button by name in \"hemi_title\", fetch new HTML text, find img url, and return to home page\n",
    "# for x in range(0,4):\n",
    "#     browser.visit(url5)\n",
    "#     browser.click_link_by_partial_text(hemi_title[x])\n",
    "#     time.sleep(5)\n",
    "#     html_temp = browser.html\n",
    "#     soup_temp = BeautifulSoup(html_temp, 'html.parser')\n",
    "#     results_temp = soup_temp.body.find('div', class_='downloads').find('a').attrs['href']\n",
    "#     print('--')\n",
    "#     print(results_temp)\n",
    "#     hemi_url.append(results_temp)\n",
    "    \n",
    "# hemisphere_image_urls = []\n",
    "# #Build dictionary\n",
    "# for x in range(len(hemi_title)):\n",
    "#     hemisphere_image_urls.append({\"title\": hemi_title[x], \"img_url\": hemi_url[x]})\n",
    "    \n",
    "# hemisphere_image_urls"
   ]
  }
 ],
 "metadata": {
  "kernelspec": {
   "display_name": "Python 3",
   "language": "python",
   "name": "python3"
  },
  "language_info": {
   "codemirror_mode": {
    "name": "ipython",
    "version": 3
   },
   "file_extension": ".py",
   "mimetype": "text/x-python",
   "name": "python",
   "nbconvert_exporter": "python",
   "pygments_lexer": "ipython3",
   "version": "3.6.3"
  }
 },
 "nbformat": 4,
 "nbformat_minor": 2
}
