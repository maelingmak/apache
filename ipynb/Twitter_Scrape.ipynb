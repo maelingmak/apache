{
 "cells": [
  {
   "cell_type": "code",
   "execution_count": 11,
   "metadata": {},
   "outputs": [
    {
     "name": "stdout",
     "output_type": "stream",
     "text": [
      "2018-06-16 22:21:28 RT @AlbertoDHill: @BitcoinInvest24 ummm #numberone #sqlinjection #wordpress I wouldn't use an app backed by a site with security handled li…\n",
      "2018-06-16 22:20:46 RT @AlbertoDHill: @BitcoinInvest24 ummm #numberone #sqlinjection #wordpress I wouldn't use an app backed by a site with security handled li…\n",
      "2018-06-16 20:43:27 @BitcoinInvest24 ummm #numberone #sqlinjection #wordpress I wouldn't use an app backed by a site with security hand… https://t.co/BClB017th3\n",
      "2018-06-16 14:45:14 Our very own @iliusvla 🙌 delivers a #TechTalk on #SQLInjection at #avast_adventure https://t.co/R06w91AhAR\n",
      "2018-06-16 12:33:46 RT @0x01alka: My first bug on @facebook bug bounty program. Thanks.\n",
      "#BugBounty #SQLInjection #SQLi https://t.co/pVt814Zfbv\n",
      "2018-06-14 13:50:02 RT @htbridge: #OWASP No.1 Web Application Risk - the Threat of and Solution to Web Application #Injection Attacks https://t.co/28MHCz2zPY #…\n",
      "2018-06-14 13:48:31 #OWASP No.1 Web Application Risk - the Threat of and Solution to Web Application #Injection Attacks https://t.co/28MHCz2zPY #sqlinjection\n",
      "2018-06-14 10:32:49 RT @CioAmaro: Top 5 cyber threats for next 3 years.(note that some are very old threats) \n",
      "#zeroDay \n",
      "#CloudDataLeakage \n",
      "#MobileMalware \n",
      "#Tar…\n",
      "2018-06-14 10:15:36 RT @CioAmaro: Top 5 cyber threats for next 3 years.(note that some are very old threats) \n",
      "#zeroDay \n",
      "#CloudDataLeakage \n",
      "#MobileMalware \n",
      "#Tar…\n",
      "2018-06-14 10:13:01 Top 5 cyber threats for next 3 years.(note that some are very old threats) \n",
      "#zeroDay \n",
      "#CloudDataLeakage… https://t.co/0Nt1edKLHh\n",
      "2018-06-14 09:31:01 RT @GirlCode_za: Learn all about web security. The next #GirlCodeWorkshop will introduce you to web security 101: sql ( injection, XXS and…\n",
      "2018-06-14 09:15:04 RT @GirlCode_za: Learn all about web security. The next #GirlCodeWorkshop will introduce you to web security 101: sql ( injection, XXS and…\n",
      "2018-06-13 16:08:24 Check out our new #blog post on #hacking #databases with #SQL injections by Yury Khrebtov, our #information… https://t.co/TIhBlGl8m6\n",
      "2018-06-13 12:22:35 RT @Eficode: We’re learning about web application and #API security today at OWASP Helsinki meetup here at Efi HQ. Rooftop sauna is hot, dr…\n",
      "2018-06-13 09:14:06 RT @GirlCode_za: Learn all about web security. The next #GirlCodeWorkshop will introduce you to web security 101: sql ( injection, XXS and…\n",
      "2018-06-13 07:28:24 RT @aditya12anand: Interesting article on \"How I gained admin level access to a website?\"- https://t.co/dgLvfUqOJP #sqlinjection #cybersecu…\n",
      "2018-06-13 06:12:53 RT @GirlCode_za: Learn all about web security. The next #GirlCodeWorkshop will introduce you to web security 101: sql ( injection, XXS and…\n",
      "2018-06-13 04:47:59 RT @sybergeek: #Secure #PHP: 20. SQL Injection\n",
      "#code #coders #coding #program #programming #computerlanguages #computersciences #webdevelop…\n",
      "2018-06-13 04:08:58 RT @GirlCode_za: Learn all about web security. The next #GirlCodeWorkshop will introduce you to web security 101: sql ( injection, XXS and…\n",
      "2018-06-13 04:04:05 #Secure #PHP: 20. SQL Injection\n",
      "#code #coders #coding #program #programming #computerlanguages #computersciences… https://t.co/jAuysQumQ0\n",
      "2018-06-13 01:14:48 Interesting article on \"How I gained admin level access to a website?\"- https://t.co/dgLvfUqOJP #sqlinjection #cybersecurity #hacking\n",
      "2018-06-13 00:47:00 RT @GirlCode_za: Learn all about web security. The next #GirlCodeWorkshop will introduce you to web security 101: sql ( injection, XXS and…\n",
      "2018-06-12 20:16:32 Possible SQL injection vulnerability? https://t.co/ByBWnXWo3n #sqlinjection\n",
      "2018-06-12 17:03:06 RT @Eficode: We’re learning about web application and #API security today at OWASP Helsinki meetup here at Efi HQ. Rooftop sauna is hot, dr…\n",
      "2018-06-12 16:21:11 RT @Eficode: We’re learning about web application and #API security today at OWASP Helsinki meetup here at Efi HQ. Rooftop sauna is hot, dr…\n",
      "2018-06-12 16:12:23 We’re learning about web application and #API security today at OWASP Helsinki meetup here at Efi HQ. Rooftop sauna… https://t.co/fDI0oYLou7\n",
      "2018-06-12 15:45:45 RT @GirlCode_za: Learn all about web security. The next #GirlCodeWorkshop will introduce you to web security 101: sql ( injection, XXS and…\n",
      "2018-06-12 13:02:46 RT @GirlCode_za: Learn all about web security. The next #GirlCodeWorkshop will introduce you to web security 101: sql ( injection, XXS and…\n",
      "2018-06-12 12:31:19 RT @GirlCode_za: Learn all about web security. The next #GirlCodeWorkshop will introduce you to web security 101: sql ( injection, XXS and…\n",
      "2018-06-12 12:12:01 RT @GirlCode_za: Learn all about web security. The next #GirlCodeWorkshop will introduce you to web security 101: sql ( injection, XXS and…\n",
      "2018-06-12 12:05:06 Learn all about web security. The next #GirlCodeWorkshop will introduce you to web security 101: sql ( injection, X… https://t.co/zb08lhw2yU\n",
      "2018-06-11 14:14:03 Hackeraj Virus Alert !!!\n",
      "#Hackeraj #sqlinjection #website #websiteHacking\n",
      "\n",
      "How to hack Website using SQL Injection… https://t.co/twOBZElDhR\n",
      "2018-06-11 14:14:02 Hackeraj Virus Alert !!!\n",
      "#Hackeraj #sqlinjection #website #websiteHacking\n",
      "\n",
      "How to hack Website using SQL Injection… https://t.co/onZ2Gj8fbQ\n",
      "2018-06-11 14:14:02 Hackeraj Virus Alert !!!\n",
      "#Hackeraj #sqlinjection #website #websiteHacking\n",
      "\n",
      "How to hack Website using SQL Injection… https://t.co/sNdhPpfPAb\n",
      "2018-06-11 05:28:47 A new type of #sqlinjection https://t.co/MXSaXWl7Fl\n",
      "2018-06-11 05:02:53 RT @_bl4de: Oh boy, this #SQLInjection cheat sheet is a real gold 😮\n",
      "Brought to you by @netsparker\n",
      "\n",
      "#hacking #itsecurity #infosec #bugbounty…\n",
      "2018-06-11 00:47:54 RT @Hakin9: AutoSQLi - An Automatic SQL Injection Tool Which Takes Advantage Of Googler, Ddgr, WhatWaf And SQLMap  https://t.co/MccjamGLje…\n",
      "2018-06-10 21:47:15 RT @Hakin9: AutoSQLi - An Automatic SQL Injection Tool Which Takes Advantage Of Googler, Ddgr, WhatWaf And SQLMap  https://t.co/MccjamGLje…\n",
      "2018-06-09 07:08:21 RT @Hakin9: AutoSQLi - An Automatic SQL Injection Tool Which Takes Advantage Of Googler, Ddgr, WhatWaf And SQLMap  https://t.co/MccjamGLje…\n",
      "2018-06-09 02:20:07 RT @Hakin9: AutoSQLi - An Automatic SQL Injection Tool Which Takes Advantage Of Googler, Ddgr, WhatWaf And SQLMap  https://t.co/MccjamGLje…\n",
      "2018-06-09 02:16:49 RT @Hakin9: AutoSQLi - An Automatic SQL Injection Tool Which Takes Advantage Of Googler, Ddgr, WhatWaf And SQLMap  https://t.co/MccjamGLje…\n",
      "2018-06-09 01:44:09 RT @Hakin9: AutoSQLi - An Automatic SQL Injection Tool Which Takes Advantage Of Googler, Ddgr, WhatWaf And SQLMap  https://t.co/MccjamGLje…\n",
      "2018-06-08 23:35:54 RT @Hakin9: AutoSQLi - An Automatic SQL Injection Tool Which Takes Advantage Of Googler, Ddgr, WhatWaf And SQLMap  https://t.co/MccjamGLje…\n",
      "2018-06-08 22:23:20 AutoSQLi - An Automatic SQL Injection Tool Which Takes Advantage Of Googler, Ddgr, WhatWaf And SQLMap   #hacking… https://t.co/gHmVz3WL0T\n",
      "2018-06-08 21:25:09 RT @Hakin9: AutoSQLi - An Automatic SQL Injection Tool Which Takes Advantage Of Googler, Ddgr, WhatWaf And SQLMap  https://t.co/MccjamGLje…\n",
      "2018-06-08 20:13:34 RT @Hakin9: AutoSQLi - An Automatic SQL Injection Tool Which Takes Advantage Of Googler, Ddgr, WhatWaf And SQLMap  https://t.co/MccjamGLje…\n",
      "2018-06-08 18:04:38 RT @Hakin9: AutoSQLi - An Automatic SQL Injection Tool Which Takes Advantage Of Googler, Ddgr, WhatWaf And SQLMap  https://t.co/MccjamGLje…\n",
      "2018-06-08 17:27:31 RT @Hakin9: AutoSQLi - An Automatic SQL Injection Tool Which Takes Advantage Of Googler, Ddgr, WhatWaf And SQLMap  https://t.co/MccjamGLje…\n",
      "2018-06-08 17:03:25 RT @Hakin9: AutoSQLi - An Automatic SQL Injection Tool Which Takes Advantage Of Googler, Ddgr, WhatWaf And SQLMap  https://t.co/MccjamGLje…\n",
      "2018-06-08 16:07:17 RT @Hakin9: AutoSQLi - An Automatic SQL Injection Tool Which Takes Advantage Of Googler, Ddgr, WhatWaf And SQLMap  https://t.co/MccjamGLje…\n",
      "2018-06-08 16:04:03 Check out our new #blog post on #hacking #databases with #SQL injections by Yury Khrebtov, our #information… https://t.co/vj5TQWpTxR\n",
      "2018-06-08 15:50:05 RT @Hakin9: AutoSQLi - An Automatic SQL Injection Tool Which Takes Advantage Of Googler, Ddgr, WhatWaf And SQLMap  https://t.co/MccjamGLje…\n",
      "2018-06-08 14:47:14 RT @Hakin9: AutoSQLi - An Automatic SQL Injection Tool Which Takes Advantage Of Googler, Ddgr, WhatWaf And SQLMap  https://t.co/MccjamGLje…\n",
      "2018-06-08 14:44:53 RT @Hakin9: AutoSQLi - An Automatic SQL Injection Tool Which Takes Advantage Of Googler, Ddgr, WhatWaf And SQLMap  https://t.co/MccjamGLje…\n",
      "2018-06-08 14:30:00 AutoSQLi - An Automatic SQL Injection Tool Which Takes Advantage Of Googler, Ddgr, WhatWaf And SQLMap… https://t.co/uAp7pM3v3o\n",
      "2018-06-07 13:13:37 RT @mirko_ross: Over 18 years after it was first publicly disclosed, #SQLinjection is still the number one #CyberSecurity threat to #websit…\n",
      "2018-06-07 06:30:19 RT @mirko_ross: Over 18 years after it was first publicly disclosed, #SQLinjection is still the number one #CyberSecurity threat to #websit…\n",
      "2018-06-07 06:23:03 A Deep Dive into Database Attacks [Part II]: Delivery and Execution of Malicious Executables through SQL commands (… https://t.co/NIpt7Dl8Ku\n",
      "2018-06-07 06:21:31 A Deep Dive into Database Attacks [Part I]: SQL Obfuscation #PenTest #SQLInjection #obfuscation #Security https://t.co/LGKALG3A4E\n",
      "2018-06-07 06:11:57 RT @mirko_ross: Over 18 years after it was first publicly disclosed, #SQLinjection is still the number one #CyberSecurity threat to #websit…\n",
      "2018-06-07 06:07:02 Over 18 years after it was first publicly disclosed, #SQLinjection is still the number one #CyberSecurity threat to… https://t.co/hDYCoBCs7f\n",
      "2018-06-06 22:57:46 My colleagues have decided to put an Excel *.xlsb file on our server to bet for the WorldCup 2018. The file is lock… https://t.co/nOUYMa38Hl\n"
     ]
    }
   ],
   "source": [
    "\n",
    "import tweepy\n",
    "import csv\n",
    "import pandas as pd\n",
    "####input your credentials here\n",
    "consumer_key = \"Ed4RNulN1lp7AbOooHa9STCoU\"\n",
    "consumer_secret = \"P7cUJlmJZq0VaCY0Jg7COliwQqzK0qYEyUF9Y0idx4ujb3ZlW5\"\n",
    "access_token = \"839621358724198402-dzdOsx2WWHrSuBwyNUiqSEnTivHozAZ\"\n",
    "access_token_secret = \"dCZ80uNRbFDjxdU2EckmNiSckdoATach6Q8zb7YYYE5ER\"\n",
    "\n",
    "auth = tweepy.OAuthHandler(consumer_key, consumer_secret)\n",
    "auth.set_access_token(access_token, access_token_secret)\n",
    "api = tweepy.API(auth,wait_on_rate_limit=True)\n",
    "\n",
    "#####United Airlines\n",
    "# Open/Create a file to append data\n",
    "# csvFile = open('ua.csv', 'a')\n",
    "text = []\n",
    "\n",
    "#Use csv Writer\n",
    "# csvWriter = csv.writer(csvFile)\n",
    "\n",
    "for tweet in tweepy.Cursor(api.search,q=\"#sqlinjection\",count=300,\n",
    "                           lang=\"en\",\n",
    "                           since=\"2016-04-03\").items():\n",
    "    print (tweet.created_at, tweet.text)\n",
    "    text.append(tweet.text)"
   ]
  },
  {
   "cell_type": "code",
   "execution_count": 12,
   "metadata": {},
   "outputs": [
    {
     "data": {
      "text/plain": [
       "62"
      ]
     },
     "execution_count": 12,
     "metadata": {},
     "output_type": "execute_result"
    }
   ],
   "source": [
    "len(text)"
   ]
  },
  {
   "cell_type": "code",
   "execution_count": null,
   "metadata": {
    "collapsed": true
   },
   "outputs": [],
   "source": []
  }
 ],
 "metadata": {
  "kernelspec": {
   "display_name": "Python 3",
   "language": "python",
   "name": "python3"
  },
  "language_info": {
   "codemirror_mode": {
    "name": "ipython",
    "version": 3
   },
   "file_extension": ".py",
   "mimetype": "text/x-python",
   "name": "python",
   "nbconvert_exporter": "python",
   "pygments_lexer": "ipython3",
   "version": "3.6.3"
  }
 },
 "nbformat": 4,
 "nbformat_minor": 2
}
