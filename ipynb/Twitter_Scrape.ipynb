{
 "cells": [
  {
   "cell_type": "code",
   "execution_count": 13,
   "metadata": {},
   "outputs": [
    {
     "name": "stdout",
     "output_type": "stream",
     "text": [
      "2018-06-18 20:01:47 Free tool: Expert Analyzer 1.0 - Log file analysis to aut #analyzer #sqlinjection #logging omatically detect SQL In… https://t.co/WYdnLN4MDT\n",
      "2018-06-18 19:11:35 Check out our new #blog post on #hacking #databases with #SQL injections by Yury Khrebtov, our #information… https://t.co/9fMuyLZCPG\n",
      "2018-06-18 13:00:34 RT @Hakin9: Bypassing Web Application Firewall  https://t.co/bgdV0kPaVI #infosec #hacking #hackers #pentesting #pentest #opensource #progra…\n",
      "2018-06-18 11:26:34 RT @Hakin9: Bypassing Web Application Firewall  https://t.co/bgdV0kPaVI #infosec #hacking #hackers #pentesting #pentest #opensource #progra…\n",
      "2018-06-18 10:58:08 RT @Hakin9: Bypassing Web Application Firewall  https://t.co/bgdV0kPaVI #infosec #hacking #hackers #pentesting #pentest #opensource #progra…\n",
      "2018-06-18 09:43:15 RT @three_cube: Database Hacking, Part 3: Using sqlmap against MySQL and WordPress sites #databsehacking #sqli #sqlinjection #cybersecurity…\n",
      "2018-06-18 06:04:21 RT @Hakin9: Bypassing Web Application Firewall  https://t.co/bgdV0kPaVI #infosec #hacking #hackers #pentesting #pentest #opensource #progra…\n",
      "2018-06-18 05:19:16 RT @Hakin9: Bypassing Web Application Firewall  https://t.co/bgdV0kPaVI #infosec #hacking #hackers #pentesting #pentest #opensource #progra…\n",
      "2018-06-18 02:10:30 RT @Hakin9: Bypassing Web Application Firewall  https://t.co/bgdV0kPaVI #infosec #hacking #hackers #pentesting #pentest #opensource #progra…\n",
      "2018-06-18 02:08:17 RT @Hakin9: Bypassing Web Application Firewall  https://t.co/bgdV0kPaVI #infosec #hacking #hackers #pentesting #pentest #opensource #progra…\n",
      "2018-06-18 02:08:16 RT @Hakin9: Bypassing Web Application Firewall  https://t.co/bgdV0kPaVI #infosec #hacking #hackers #pentesting #pentest #opensource #progra…\n",
      "2018-06-18 02:00:05 RT @Hakin9: Bypassing Web Application Firewall  https://t.co/bgdV0kPaVI #infosec #hacking #hackers #pentesting #pentest #opensource #progra…\n",
      "2018-06-18 01:58:58 RT @Hakin9: Bypassing Web Application Firewall  https://t.co/bgdV0kPaVI #infosec #hacking #hackers #pentesting #pentest #opensource #progra…\n",
      "2018-06-18 01:58:33 RT @Hakin9: Bypassing Web Application Firewall  https://t.co/bgdV0kPaVI #infosec #hacking #hackers #pentesting #pentest #opensource #progra…\n",
      "2018-06-18 01:58:00 Bypassing Web Application Firewall  https://t.co/bgdV0kPaVI #infosec #hacking #hackers #pentesting #pentest… https://t.co/rJWENLkNwO\n",
      "2018-06-17 20:17:18 Simple way to prevent #sqlInjection in #python #MySQLdb  \n",
      "https://t.co/g2M7XNhMil\n",
      "2018-06-17 17:58:59 RT @AlbertoDHill: @BitcoinInvest24 ummm #numberone #sqlinjection #wordpress I wouldn't use an app backed by a site with security handled li…\n",
      "2018-06-16 22:21:28 RT @AlbertoDHill: @BitcoinInvest24 ummm #numberone #sqlinjection #wordpress I wouldn't use an app backed by a site with security handled li…\n",
      "2018-06-16 22:20:46 RT @AlbertoDHill: @BitcoinInvest24 ummm #numberone #sqlinjection #wordpress I wouldn't use an app backed by a site with security handled li…\n",
      "2018-06-16 20:43:27 @BitcoinInvest24 ummm #numberone #sqlinjection #wordpress I wouldn't use an app backed by a site with security hand… https://t.co/BClB017th3\n",
      "2018-06-16 14:45:14 Our very own @iliusvla 🙌 delivers a #TechTalk on #SQLInjection at #avast_adventure https://t.co/R06w91AhAR\n",
      "2018-06-16 12:33:46 RT @0x01alka: My first bug on @facebook bug bounty program. Thanks.\n",
      "#BugBounty #SQLInjection #SQLi https://t.co/pVt814Zfbv\n",
      "2018-06-15 21:13:52 Massive #SQLInjection Scanner: SQLiv #CyberSecurity #InfoSec  https://t.co/FOggPuR4fw\n",
      "2018-06-14 13:50:02 RT @htbridge: #OWASP No.1 Web Application Risk - the Threat of and Solution to Web Application #Injection Attacks https://t.co/28MHCz2zPY #…\n",
      "2018-06-14 13:48:31 #OWASP No.1 Web Application Risk - the Threat of and Solution to Web Application #Injection Attacks https://t.co/28MHCz2zPY #sqlinjection\n",
      "2018-06-14 10:32:49 RT @CioAmaro: Top 5 cyber threats for next 3 years.(note that some are very old threats) \n",
      "#zeroDay \n",
      "#CloudDataLeakage \n",
      "#MobileMalware \n",
      "#Tar…\n",
      "2018-06-14 10:15:36 RT @CioAmaro: Top 5 cyber threats for next 3 years.(note that some are very old threats) \n",
      "#zeroDay \n",
      "#CloudDataLeakage \n",
      "#MobileMalware \n",
      "#Tar…\n",
      "2018-06-14 10:13:01 Top 5 cyber threats for next 3 years.(note that some are very old threats) \n",
      "#zeroDay \n",
      "#CloudDataLeakage… https://t.co/0Nt1edKLHh\n",
      "2018-06-14 09:31:01 RT @GirlCode_za: Learn all about web security. The next #GirlCodeWorkshop will introduce you to web security 101: sql ( injection, XXS and…\n",
      "2018-06-14 09:15:04 RT @GirlCode_za: Learn all about web security. The next #GirlCodeWorkshop will introduce you to web security 101: sql ( injection, XXS and…\n",
      "2018-06-13 16:08:24 Check out our new #blog post on #hacking #databases with #SQL injections by Yury Khrebtov, our #information… https://t.co/TIhBlGl8m6\n",
      "2018-06-13 12:22:35 RT @Eficode: We’re learning about web application and #API security today at OWASP Helsinki meetup here at Efi HQ. Rooftop sauna is hot, dr…\n",
      "2018-06-13 09:14:06 RT @GirlCode_za: Learn all about web security. The next #GirlCodeWorkshop will introduce you to web security 101: sql ( injection, XXS and…\n",
      "2018-06-13 07:28:24 RT @aditya12anand: Interesting article on \"How I gained admin level access to a website?\"- https://t.co/dgLvfUqOJP #sqlinjection #cybersecu…\n",
      "2018-06-13 06:12:53 RT @GirlCode_za: Learn all about web security. The next #GirlCodeWorkshop will introduce you to web security 101: sql ( injection, XXS and…\n",
      "2018-06-13 04:47:59 RT @sybergeek: #Secure #PHP: 20. SQL Injection\n",
      "#code #coders #coding #program #programming #computerlanguages #computersciences #webdevelop…\n",
      "2018-06-13 04:08:58 RT @GirlCode_za: Learn all about web security. The next #GirlCodeWorkshop will introduce you to web security 101: sql ( injection, XXS and…\n",
      "2018-06-13 04:04:05 #Secure #PHP: 20. SQL Injection\n",
      "#code #coders #coding #program #programming #computerlanguages #computersciences… https://t.co/jAuysQumQ0\n",
      "2018-06-13 01:14:48 Interesting article on \"How I gained admin level access to a website?\"- https://t.co/dgLvfUqOJP #sqlinjection #cybersecurity #hacking\n",
      "2018-06-13 00:47:00 RT @GirlCode_za: Learn all about web security. The next #GirlCodeWorkshop will introduce you to web security 101: sql ( injection, XXS and…\n",
      "2018-06-12 20:16:32 Possible SQL injection vulnerability? https://t.co/ByBWnXWo3n #sqlinjection\n",
      "2018-06-12 17:03:06 RT @Eficode: We’re learning about web application and #API security today at OWASP Helsinki meetup here at Efi HQ. Rooftop sauna is hot, dr…\n",
      "2018-06-12 16:21:11 RT @Eficode: We’re learning about web application and #API security today at OWASP Helsinki meetup here at Efi HQ. Rooftop sauna is hot, dr…\n",
      "2018-06-12 16:12:23 We’re learning about web application and #API security today at OWASP Helsinki meetup here at Efi HQ. Rooftop sauna… https://t.co/fDI0oYLou7\n",
      "2018-06-12 15:45:45 RT @GirlCode_za: Learn all about web security. The next #GirlCodeWorkshop will introduce you to web security 101: sql ( injection, XXS and…\n",
      "2018-06-12 13:02:46 RT @GirlCode_za: Learn all about web security. The next #GirlCodeWorkshop will introduce you to web security 101: sql ( injection, XXS and…\n",
      "2018-06-12 12:31:19 RT @GirlCode_za: Learn all about web security. The next #GirlCodeWorkshop will introduce you to web security 101: sql ( injection, XXS and…\n",
      "2018-06-12 12:12:01 RT @GirlCode_za: Learn all about web security. The next #GirlCodeWorkshop will introduce you to web security 101: sql ( injection, XXS and…\n",
      "2018-06-12 12:05:06 Learn all about web security. The next #GirlCodeWorkshop will introduce you to web security 101: sql ( injection, X… https://t.co/zb08lhw2yU\n",
      "2018-06-11 14:14:03 Hackeraj Virus Alert !!!\n",
      "#Hackeraj #sqlinjection #website #websiteHacking\n",
      "\n",
      "How to hack Website using SQL Injection… https://t.co/twOBZElDhR\n",
      "2018-06-11 14:14:02 Hackeraj Virus Alert !!!\n",
      "#Hackeraj #sqlinjection #website #websiteHacking\n",
      "\n",
      "How to hack Website using SQL Injection… https://t.co/onZ2Gj8fbQ\n",
      "2018-06-11 14:14:02 Hackeraj Virus Alert !!!\n",
      "#Hackeraj #sqlinjection #website #websiteHacking\n",
      "\n",
      "How to hack Website using SQL Injection… https://t.co/sNdhPpfPAb\n",
      "2018-06-11 05:28:47 A new type of #sqlinjection https://t.co/MXSaXWl7Fl\n",
      "2018-06-11 05:02:53 RT @_bl4de: Oh boy, this #SQLInjection cheat sheet is a real gold 😮\n",
      "Brought to you by @netsparker\n",
      "\n",
      "#hacking #itsecurity #infosec #bugbounty…\n",
      "2018-06-11 00:47:54 RT @Hakin9: AutoSQLi - An Automatic SQL Injection Tool Which Takes Advantage Of Googler, Ddgr, WhatWaf And SQLMap  https://t.co/MccjamGLje…\n",
      "2018-06-10 21:47:15 RT @Hakin9: AutoSQLi - An Automatic SQL Injection Tool Which Takes Advantage Of Googler, Ddgr, WhatWaf And SQLMap  https://t.co/MccjamGLje…\n",
      "2018-06-09 07:08:21 RT @Hakin9: AutoSQLi - An Automatic SQL Injection Tool Which Takes Advantage Of Googler, Ddgr, WhatWaf And SQLMap  https://t.co/MccjamGLje…\n",
      "2018-06-09 02:20:07 RT @Hakin9: AutoSQLi - An Automatic SQL Injection Tool Which Takes Advantage Of Googler, Ddgr, WhatWaf And SQLMap  https://t.co/MccjamGLje…\n",
      "2018-06-09 02:16:49 RT @Hakin9: AutoSQLi - An Automatic SQL Injection Tool Which Takes Advantage Of Googler, Ddgr, WhatWaf And SQLMap  https://t.co/MccjamGLje…\n",
      "2018-06-09 01:44:09 RT @Hakin9: AutoSQLi - An Automatic SQL Injection Tool Which Takes Advantage Of Googler, Ddgr, WhatWaf And SQLMap  https://t.co/MccjamGLje…\n"
     ]
    },
    {
     "name": "stdout",
     "output_type": "stream",
     "text": [
      "2018-06-08 21:25:09 RT @Hakin9: AutoSQLi - An Automatic SQL Injection Tool Which Takes Advantage Of Googler, Ddgr, WhatWaf And SQLMap  https://t.co/MccjamGLje…\n"
     ]
    }
   ],
   "source": [
    "\n",
    "import tweepy\n",
    "import csv\n",
    "import pandas as pd\n",
    "####input your credentials here\n",
    "consumer_key = \"Ed4RNulN1lp7AbOooHa9STCoU\"\n",
    "consumer_secret = \"P7cUJlmJZq0VaCY0Jg7COliwQqzK0qYEyUF9Y0idx4ujb3ZlW5\"\n",
    "access_token = \"839621358724198402-dzdOsx2WWHrSuBwyNUiqSEnTivHozAZ\"\n",
    "access_token_secret = \"dCZ80uNRbFDjxdU2EckmNiSckdoATach6Q8zb7YYYE5ER\"\n",
    "\n",
    "auth = tweepy.OAuthHandler(consumer_key, consumer_secret)\n",
    "auth.set_access_token(access_token, access_token_secret)\n",
    "api = tweepy.API(auth,wait_on_rate_limit=True)\n",
    "\n",
    "#####United Airlines\n",
    "# Open/Create a file to append data\n",
    "# csvFile = open('ua.csv', 'a')\n",
    "text = []\n",
    "\n",
    "#Use csv Writer\n",
    "# csvWriter = csv.writer(csvFile)\n",
    "for x in range (1,4):\n",
    "    for tweet in tweepy.Cursor(api.search,q=\"#sqlinjection\",rpp=300,\n",
    "                               lang=\"en\",\n",
    "                               since=\"2016-04-03\").items():\n",
    "        print (tweet.created_at, tweet.text)\n",
    "        text.append(tweet.text)\n"
   ]
  },
  {
   "cell_type": "code",
   "execution_count": 30,
   "metadata": {},
   "outputs": [],
   "source": [
    "tweet_list = []\n",
    "tweet_times = []\n",
    "tweet_text = []\n",
    "for page in tweepy.Cursor(api.search, q=\"#sqlinjection\", count=100, result_type='recent').pages(4):\n",
    "    for t in page:\n",
    "        tweet_list.append(t._json)\n",
    "        tweet = t._json\n",
    "        tweet_times.append(tweet['created_at'])\n",
    "        tweet_text.append(tweet['text'])\n",
    "    "
   ]
  },
  {
   "cell_type": "code",
   "execution_count": 34,
   "metadata": {},
   "outputs": [
    {
     "data": {
      "text/plain": [
       "135"
      ]
     },
     "execution_count": 34,
     "metadata": {},
     "output_type": "execute_result"
    }
   ],
   "source": [
    "len(tweet_text)"
   ]
  },
  {
   "cell_type": "code",
   "execution_count": null,
   "metadata": {
    "collapsed": true
   },
   "outputs": [],
   "source": []
  }
 ],
 "metadata": {
  "kernelspec": {
   "display_name": "Python 3",
   "language": "python",
   "name": "python3"
  },
  "language_info": {
   "codemirror_mode": {
    "name": "ipython",
    "version": 3
   },
   "file_extension": ".py",
   "mimetype": "text/x-python",
   "name": "python",
   "nbconvert_exporter": "python",
   "pygments_lexer": "ipython3",
   "version": "3.6.3"
  }
 },
 "nbformat": 4,
 "nbformat_minor": 2
}
